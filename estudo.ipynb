{
 "cells": [
  {
   "cell_type": "markdown",
   "id": "bbb612ec",
   "metadata": {},
   "source": [
    "\n",
    "| Ticker      | Nome              | Tipo de dado               | Pode usar na matriz de Markowitz? | Observação importante                     |\n",
    "|-------------|-------------------|----------------------------|------------------------------------|-------------------------------------------|\n",
    "| ^BVSP       | IBOVESPA          | Nível do índice (pontos)   | ✅ Sim                             | Já está como “preço” diário               |\n",
    "| ^GSPC       | S&P 500           | Nível do índice (pontos)   | ✅ Sim                             | Já está como “preço” diário               |\n",
    "| ^TNX        | Treasury 10Y Yield| Yield (%)                  | ⚠️ Cautela ou evitar               | Não é um preço — é uma taxa de juros      |\n",
    "| USDBRL=X    | Dólar/Real        | Taxa de câmbio             | ✅ Sim                             | Usar normalmente                          |\n",
    "| EURBRL=X    | Euro/Real         | Taxa de câmbio             | ✅ Sim                             | Usar normalmente                          |\n"
   ]
  },
  {
   "cell_type": "markdown",
   "id": "cfb677e1",
   "metadata": {},
   "source": [
    "### IBOVESPA: Um Índice de Mercado\n",
    "\n",
    "O IBOVESPA é um índice de mercado que representa uma carteira teórica de ações da B3. Ele funciona como um indicador do desempenho médio das ações mais negociadas e representativas do mercado brasileiro.\n",
    "\n",
    "O “preço” do índice (exemplo: 121.248) pode ser interpretado como o “valor da cota” de uma carteira teórica. Assim como o preço de uma ação, o IBOVESPA flutua diariamente, subindo e descendo conforme as condições do mercado.\n",
    "\n",
    "### 🔁 O que você precisa para a matriz de retornos?\n",
    "\n",
    "Para realizar análises financeiras, como a construção de uma matriz de Markowitz, é necessário calcular uma série temporal de retornos logarítmicos. A fórmula para o retorno logarítmico é:\n",
    "\n",
    "$$\n",
    "r_t = \\ln\\left(\\frac{P_t}{P_{t-1}}\\right)\n",
    "$$\n",
    "\n",
    "Onde:\n",
    "- \\(P_t\\): valor do índice no dia \\(t\\)\n",
    "- \\(r_t\\): retorno logarítmico no dia \\(t\\)\n",
    "\n",
    "Essa fórmula é aplicável não apenas para índices, mas também para ações, moedas e outros ativos financeiros, desde que você tenha uma sequência numérica coerente no tempo.\n",
    "\n",
    "A imagem abaixo ilustra como os dados devem ser organizados para calcular os retornos:\n",
    "\n",
    "```\n",
    "Data       | Preço\n",
    "-----------|--------\n",
    "2023-08-01 | 121248\n",
    "2023-08-02 | 120859\n",
    "2023-08-03 | 120586\n",
    "...\n",
    "```\n",
    "\n",
    "Com essa sequência, você pode calcular os retornos diários e utilizá-los em análises financeiras avançadas.\n"
   ]
  },
  {
   "cell_type": "code",
   "execution_count": 3,
   "id": "68905cf0",
   "metadata": {},
   "outputs": [],
   "source": [
    "import pandas as pd"
   ]
  },
  {
   "cell_type": "code",
   "execution_count": 4,
   "id": "62246b71",
   "metadata": {},
   "outputs": [
    {
     "name": "stdout",
     "output_type": "stream",
     "text": [
      "✅ Dados carregados para USDBRLX_1d\n"
     ]
    }
   ],
   "source": [
    "try:\n",
    "    USDBRLX_1d = pd.read_csv('USDBRLX_1d.csv', index_col=0, parse_dates=True)\n",
    "    print(\"✅ Dados carregados para USDBRLX_1d\")\n",
    "except FileNotFoundError:\n",
    "    print(\"❌ Arquivo USDBRLX_1d.csv não encontrado.\")"
   ]
  },
  {
   "cell_type": "code",
   "execution_count": 5,
   "id": "f6b5c1b2",
   "metadata": {},
   "outputs": [
    {
     "data": {
      "text/html": [
       "<div>\n",
       "<style scoped>\n",
       "    .dataframe tbody tr th:only-of-type {\n",
       "        vertical-align: middle;\n",
       "    }\n",
       "\n",
       "    .dataframe tbody tr th {\n",
       "        vertical-align: top;\n",
       "    }\n",
       "\n",
       "    .dataframe thead th {\n",
       "        text-align: right;\n",
       "    }\n",
       "</style>\n",
       "<table border=\"1\" class=\"dataframe\">\n",
       "  <thead>\n",
       "    <tr style=\"text-align: right;\">\n",
       "      <th></th>\n",
       "      <th>Date</th>\n",
       "      <th>Dólar/Real</th>\n",
       "    </tr>\n",
       "  </thead>\n",
       "  <tbody>\n",
       "    <tr>\n",
       "      <th>0</th>\n",
       "      <td>2023-08-01 00:00:00+01:00</td>\n",
       "      <td>4.7247</td>\n",
       "    </tr>\n",
       "    <tr>\n",
       "      <th>1</th>\n",
       "      <td>2023-08-02 00:00:00+01:00</td>\n",
       "      <td>4.7920</td>\n",
       "    </tr>\n",
       "    <tr>\n",
       "      <th>2</th>\n",
       "      <td>2023-08-03 00:00:00+01:00</td>\n",
       "      <td>4.8104</td>\n",
       "    </tr>\n",
       "    <tr>\n",
       "      <th>3</th>\n",
       "      <td>2023-08-04 00:00:00+01:00</td>\n",
       "      <td>4.9164</td>\n",
       "    </tr>\n",
       "    <tr>\n",
       "      <th>4</th>\n",
       "      <td>2023-08-07 00:00:00+01:00</td>\n",
       "      <td>4.8854</td>\n",
       "    </tr>\n",
       "  </tbody>\n",
       "</table>\n",
       "</div>"
      ],
      "text/plain": [
       "                        Date  Dólar/Real\n",
       "0  2023-08-01 00:00:00+01:00      4.7247\n",
       "1  2023-08-02 00:00:00+01:00      4.7920\n",
       "2  2023-08-03 00:00:00+01:00      4.8104\n",
       "3  2023-08-04 00:00:00+01:00      4.9164\n",
       "4  2023-08-07 00:00:00+01:00      4.8854"
      ]
     },
     "execution_count": 5,
     "metadata": {},
     "output_type": "execute_result"
    }
   ],
   "source": [
    "usdbrl = USDBRLX_1d.copy()\n",
    "usdbrl = usdbrl.reset_index() \n",
    "usdbrl.head(5)"
   ]
  },
  {
   "cell_type": "code",
   "execution_count": 6,
   "id": "d866a264",
   "metadata": {},
   "outputs": [],
   "source": [
    "usdbrl['Date'] = pd.to_datetime(usdbrl['Date'], utc=True)\n",
    "\n",
    "# Converte para fuso local (ou remove)\n",
    "usdbrl['Date'] = usdbrl['Date'].dt.tz_convert(None).dt.date"
   ]
  },
  {
   "cell_type": "code",
   "execution_count": 7,
   "id": "0b5a65c3",
   "metadata": {},
   "outputs": [
    {
     "data": {
      "text/html": [
       "<div>\n",
       "<style scoped>\n",
       "    .dataframe tbody tr th:only-of-type {\n",
       "        vertical-align: middle;\n",
       "    }\n",
       "\n",
       "    .dataframe tbody tr th {\n",
       "        vertical-align: top;\n",
       "    }\n",
       "\n",
       "    .dataframe thead th {\n",
       "        text-align: right;\n",
       "    }\n",
       "</style>\n",
       "<table border=\"1\" class=\"dataframe\">\n",
       "  <thead>\n",
       "    <tr style=\"text-align: right;\">\n",
       "      <th></th>\n",
       "      <th>Date</th>\n",
       "      <th>Dólar/Real</th>\n",
       "    </tr>\n",
       "  </thead>\n",
       "  <tbody>\n",
       "    <tr>\n",
       "      <th>0</th>\n",
       "      <td>2023-07-31</td>\n",
       "      <td>4.7247</td>\n",
       "    </tr>\n",
       "    <tr>\n",
       "      <th>1</th>\n",
       "      <td>2023-08-01</td>\n",
       "      <td>4.7920</td>\n",
       "    </tr>\n",
       "    <tr>\n",
       "      <th>2</th>\n",
       "      <td>2023-08-02</td>\n",
       "      <td>4.8104</td>\n",
       "    </tr>\n",
       "    <tr>\n",
       "      <th>3</th>\n",
       "      <td>2023-08-03</td>\n",
       "      <td>4.9164</td>\n",
       "    </tr>\n",
       "    <tr>\n",
       "      <th>4</th>\n",
       "      <td>2023-08-06</td>\n",
       "      <td>4.8854</td>\n",
       "    </tr>\n",
       "  </tbody>\n",
       "</table>\n",
       "</div>"
      ],
      "text/plain": [
       "         Date  Dólar/Real\n",
       "0  2023-07-31      4.7247\n",
       "1  2023-08-01      4.7920\n",
       "2  2023-08-02      4.8104\n",
       "3  2023-08-03      4.9164\n",
       "4  2023-08-06      4.8854"
      ]
     },
     "execution_count": 7,
     "metadata": {},
     "output_type": "execute_result"
    }
   ],
   "source": [
    "usdbrl.head(5)"
   ]
  },
  {
   "cell_type": "code",
   "execution_count": 8,
   "id": "4310622c",
   "metadata": {},
   "outputs": [
    {
     "name": "stdout",
     "output_type": "stream",
     "text": [
      "✅ Dados carregados para EURBRLX_1d\n"
     ]
    }
   ],
   "source": [
    "try:\n",
    "    EURBRLX_1d = pd.read_csv('EURBRLX_1d.csv', index_col=0, parse_dates=True)\n",
    "    print(\"✅ Dados carregados para EURBRLX_1d\")\n",
    "except FileNotFoundError:\n",
    "    print(\"❌ Arquivo EURBRLX_1d.csv não encontrado.\")"
   ]
  },
  {
   "cell_type": "code",
   "execution_count": 9,
   "id": "5f07338f",
   "metadata": {},
   "outputs": [
    {
     "data": {
      "text/html": [
       "<div>\n",
       "<style scoped>\n",
       "    .dataframe tbody tr th:only-of-type {\n",
       "        vertical-align: middle;\n",
       "    }\n",
       "\n",
       "    .dataframe tbody tr th {\n",
       "        vertical-align: top;\n",
       "    }\n",
       "\n",
       "    .dataframe thead th {\n",
       "        text-align: right;\n",
       "    }\n",
       "</style>\n",
       "<table border=\"1\" class=\"dataframe\">\n",
       "  <thead>\n",
       "    <tr style=\"text-align: right;\">\n",
       "      <th></th>\n",
       "      <th>Date</th>\n",
       "      <th>Euro/Real</th>\n",
       "    </tr>\n",
       "  </thead>\n",
       "  <tbody>\n",
       "    <tr>\n",
       "      <th>0</th>\n",
       "      <td>2023-08-01 00:00:00+01:00</td>\n",
       "      <td>5.1952</td>\n",
       "    </tr>\n",
       "    <tr>\n",
       "      <th>1</th>\n",
       "      <td>2023-08-02 00:00:00+01:00</td>\n",
       "      <td>5.2556</td>\n",
       "    </tr>\n",
       "    <tr>\n",
       "      <th>2</th>\n",
       "      <td>2023-08-03 00:00:00+01:00</td>\n",
       "      <td>5.2530</td>\n",
       "    </tr>\n",
       "    <tr>\n",
       "      <th>3</th>\n",
       "      <td>2023-08-04 00:00:00+01:00</td>\n",
       "      <td>5.3571</td>\n",
       "    </tr>\n",
       "    <tr>\n",
       "      <th>4</th>\n",
       "      <td>2023-08-07 00:00:00+01:00</td>\n",
       "      <td>5.3579</td>\n",
       "    </tr>\n",
       "  </tbody>\n",
       "</table>\n",
       "</div>"
      ],
      "text/plain": [
       "                        Date  Euro/Real\n",
       "0  2023-08-01 00:00:00+01:00     5.1952\n",
       "1  2023-08-02 00:00:00+01:00     5.2556\n",
       "2  2023-08-03 00:00:00+01:00     5.2530\n",
       "3  2023-08-04 00:00:00+01:00     5.3571\n",
       "4  2023-08-07 00:00:00+01:00     5.3579"
      ]
     },
     "execution_count": 9,
     "metadata": {},
     "output_type": "execute_result"
    }
   ],
   "source": [
    "eurbrl = EURBRLX_1d.copy()\n",
    "eurbrl = eurbrl.reset_index() \n",
    "eurbrl.head(5)"
   ]
  },
  {
   "cell_type": "code",
   "execution_count": 10,
   "id": "e520676a",
   "metadata": {},
   "outputs": [],
   "source": [
    "eurbrl['Date'] = pd.to_datetime(eurbrl['Date'], utc=True)\n",
    "\n",
    "# Converte para fuso local (ou remove)\n",
    "eurbrl['Date'] = eurbrl['Date'].dt.tz_convert(None).dt.date"
   ]
  },
  {
   "cell_type": "code",
   "execution_count": 11,
   "id": "1c48854b",
   "metadata": {},
   "outputs": [
    {
     "data": {
      "text/html": [
       "<div>\n",
       "<style scoped>\n",
       "    .dataframe tbody tr th:only-of-type {\n",
       "        vertical-align: middle;\n",
       "    }\n",
       "\n",
       "    .dataframe tbody tr th {\n",
       "        vertical-align: top;\n",
       "    }\n",
       "\n",
       "    .dataframe thead th {\n",
       "        text-align: right;\n",
       "    }\n",
       "</style>\n",
       "<table border=\"1\" class=\"dataframe\">\n",
       "  <thead>\n",
       "    <tr style=\"text-align: right;\">\n",
       "      <th></th>\n",
       "      <th>Date</th>\n",
       "      <th>Euro/Real</th>\n",
       "    </tr>\n",
       "  </thead>\n",
       "  <tbody>\n",
       "    <tr>\n",
       "      <th>0</th>\n",
       "      <td>2023-07-31</td>\n",
       "      <td>5.1952</td>\n",
       "    </tr>\n",
       "    <tr>\n",
       "      <th>1</th>\n",
       "      <td>2023-08-01</td>\n",
       "      <td>5.2556</td>\n",
       "    </tr>\n",
       "    <tr>\n",
       "      <th>2</th>\n",
       "      <td>2023-08-02</td>\n",
       "      <td>5.2530</td>\n",
       "    </tr>\n",
       "    <tr>\n",
       "      <th>3</th>\n",
       "      <td>2023-08-03</td>\n",
       "      <td>5.3571</td>\n",
       "    </tr>\n",
       "    <tr>\n",
       "      <th>4</th>\n",
       "      <td>2023-08-06</td>\n",
       "      <td>5.3579</td>\n",
       "    </tr>\n",
       "  </tbody>\n",
       "</table>\n",
       "</div>"
      ],
      "text/plain": [
       "         Date  Euro/Real\n",
       "0  2023-07-31     5.1952\n",
       "1  2023-08-01     5.2556\n",
       "2  2023-08-02     5.2530\n",
       "3  2023-08-03     5.3571\n",
       "4  2023-08-06     5.3579"
      ]
     },
     "execution_count": 11,
     "metadata": {},
     "output_type": "execute_result"
    }
   ],
   "source": [
    "eurbrl.head(5)"
   ]
  },
  {
   "cell_type": "code",
   "execution_count": 12,
   "id": "ab893a0d",
   "metadata": {},
   "outputs": [
    {
     "name": "stdout",
     "output_type": "stream",
     "text": [
      "✅ Dados carregados para BVSP_1d\n"
     ]
    }
   ],
   "source": [
    "try:\n",
    "    BVSP_1d = pd.read_csv('^BVSP_1d.csv', index_col=0, parse_dates=True)\n",
    "    print(\"✅ Dados carregados para BVSP_1d\")\n",
    "except FileNotFoundError:\n",
    "    print(\"❌ Arquivo BVSP_1d.csv não encontrado.\")"
   ]
  },
  {
   "cell_type": "code",
   "execution_count": 13,
   "id": "fbd7e9c8",
   "metadata": {},
   "outputs": [
    {
     "data": {
      "text/html": [
       "<div>\n",
       "<style scoped>\n",
       "    .dataframe tbody tr th:only-of-type {\n",
       "        vertical-align: middle;\n",
       "    }\n",
       "\n",
       "    .dataframe tbody tr th {\n",
       "        vertical-align: top;\n",
       "    }\n",
       "\n",
       "    .dataframe thead th {\n",
       "        text-align: right;\n",
       "    }\n",
       "</style>\n",
       "<table border=\"1\" class=\"dataframe\">\n",
       "  <thead>\n",
       "    <tr style=\"text-align: right;\">\n",
       "      <th></th>\n",
       "      <th>Date</th>\n",
       "      <th>IBOVESPA</th>\n",
       "    </tr>\n",
       "  </thead>\n",
       "  <tbody>\n",
       "    <tr>\n",
       "      <th>0</th>\n",
       "      <td>2023-08-01 00:00:00-03:00</td>\n",
       "      <td>121248.0</td>\n",
       "    </tr>\n",
       "    <tr>\n",
       "      <th>1</th>\n",
       "      <td>2023-08-02 00:00:00-03:00</td>\n",
       "      <td>120859.0</td>\n",
       "    </tr>\n",
       "    <tr>\n",
       "      <th>2</th>\n",
       "      <td>2023-08-03 00:00:00-03:00</td>\n",
       "      <td>120586.0</td>\n",
       "    </tr>\n",
       "    <tr>\n",
       "      <th>3</th>\n",
       "      <td>2023-08-04 00:00:00-03:00</td>\n",
       "      <td>119508.0</td>\n",
       "    </tr>\n",
       "    <tr>\n",
       "      <th>4</th>\n",
       "      <td>2023-08-07 00:00:00-03:00</td>\n",
       "      <td>119380.0</td>\n",
       "    </tr>\n",
       "  </tbody>\n",
       "</table>\n",
       "</div>"
      ],
      "text/plain": [
       "                       Date  IBOVESPA\n",
       "0 2023-08-01 00:00:00-03:00  121248.0\n",
       "1 2023-08-02 00:00:00-03:00  120859.0\n",
       "2 2023-08-03 00:00:00-03:00  120586.0\n",
       "3 2023-08-04 00:00:00-03:00  119508.0\n",
       "4 2023-08-07 00:00:00-03:00  119380.0"
      ]
     },
     "execution_count": 13,
     "metadata": {},
     "output_type": "execute_result"
    }
   ],
   "source": [
    "ibov = BVSP_1d.copy()\n",
    "ibov = ibov.reset_index() \n",
    "ibov.head(5)"
   ]
  },
  {
   "cell_type": "code",
   "execution_count": 14,
   "id": "54d9f08f",
   "metadata": {},
   "outputs": [],
   "source": [
    "ibov['Date'] = pd.to_datetime(ibov['Date'], utc=True)\n",
    "\n",
    "# Converte para fuso local (ou remove)\n",
    "ibov['Date'] = ibov['Date'].dt.tz_convert(None).dt.date"
   ]
  },
  {
   "cell_type": "code",
   "execution_count": 15,
   "id": "04f887a5",
   "metadata": {},
   "outputs": [
    {
     "data": {
      "text/html": [
       "<div>\n",
       "<style scoped>\n",
       "    .dataframe tbody tr th:only-of-type {\n",
       "        vertical-align: middle;\n",
       "    }\n",
       "\n",
       "    .dataframe tbody tr th {\n",
       "        vertical-align: top;\n",
       "    }\n",
       "\n",
       "    .dataframe thead th {\n",
       "        text-align: right;\n",
       "    }\n",
       "</style>\n",
       "<table border=\"1\" class=\"dataframe\">\n",
       "  <thead>\n",
       "    <tr style=\"text-align: right;\">\n",
       "      <th></th>\n",
       "      <th>Date</th>\n",
       "      <th>IBOVESPA</th>\n",
       "    </tr>\n",
       "  </thead>\n",
       "  <tbody>\n",
       "    <tr>\n",
       "      <th>0</th>\n",
       "      <td>2023-08-01</td>\n",
       "      <td>121248.0</td>\n",
       "    </tr>\n",
       "    <tr>\n",
       "      <th>1</th>\n",
       "      <td>2023-08-02</td>\n",
       "      <td>120859.0</td>\n",
       "    </tr>\n",
       "    <tr>\n",
       "      <th>2</th>\n",
       "      <td>2023-08-03</td>\n",
       "      <td>120586.0</td>\n",
       "    </tr>\n",
       "    <tr>\n",
       "      <th>3</th>\n",
       "      <td>2023-08-04</td>\n",
       "      <td>119508.0</td>\n",
       "    </tr>\n",
       "    <tr>\n",
       "      <th>4</th>\n",
       "      <td>2023-08-07</td>\n",
       "      <td>119380.0</td>\n",
       "    </tr>\n",
       "  </tbody>\n",
       "</table>\n",
       "</div>"
      ],
      "text/plain": [
       "         Date  IBOVESPA\n",
       "0  2023-08-01  121248.0\n",
       "1  2023-08-02  120859.0\n",
       "2  2023-08-03  120586.0\n",
       "3  2023-08-04  119508.0\n",
       "4  2023-08-07  119380.0"
      ]
     },
     "execution_count": 15,
     "metadata": {},
     "output_type": "execute_result"
    }
   ],
   "source": [
    "ibov.head(5)"
   ]
  },
  {
   "cell_type": "code",
   "execution_count": 16,
   "id": "b4f58e8c",
   "metadata": {},
   "outputs": [
    {
     "name": "stdout",
     "output_type": "stream",
     "text": [
      "✅ Dados carregados para GSPC_1d\n"
     ]
    }
   ],
   "source": [
    "try:\n",
    "    GSPC_1d = pd.read_csv('^GSPC_1d.csv', index_col=0, parse_dates=True)\n",
    "    print(\"✅ Dados carregados para GSPC_1d\")\n",
    "except FileNotFoundError:\n",
    "    print(\"❌ Arquivo GSPC_1d.csv não encontrado.\")"
   ]
  },
  {
   "cell_type": "code",
   "execution_count": 17,
   "id": "b0cf7738",
   "metadata": {},
   "outputs": [
    {
     "data": {
      "text/html": [
       "<div>\n",
       "<style scoped>\n",
       "    .dataframe tbody tr th:only-of-type {\n",
       "        vertical-align: middle;\n",
       "    }\n",
       "\n",
       "    .dataframe tbody tr th {\n",
       "        vertical-align: top;\n",
       "    }\n",
       "\n",
       "    .dataframe thead th {\n",
       "        text-align: right;\n",
       "    }\n",
       "</style>\n",
       "<table border=\"1\" class=\"dataframe\">\n",
       "  <thead>\n",
       "    <tr style=\"text-align: right;\">\n",
       "      <th></th>\n",
       "      <th>Date</th>\n",
       "      <th>S&amp;P 500</th>\n",
       "    </tr>\n",
       "  </thead>\n",
       "  <tbody>\n",
       "    <tr>\n",
       "      <th>0</th>\n",
       "      <td>2023-08-01 00:00:00-04:00</td>\n",
       "      <td>4576.729980</td>\n",
       "    </tr>\n",
       "    <tr>\n",
       "      <th>1</th>\n",
       "      <td>2023-08-02 00:00:00-04:00</td>\n",
       "      <td>4513.390137</td>\n",
       "    </tr>\n",
       "    <tr>\n",
       "      <th>2</th>\n",
       "      <td>2023-08-03 00:00:00-04:00</td>\n",
       "      <td>4501.890137</td>\n",
       "    </tr>\n",
       "    <tr>\n",
       "      <th>3</th>\n",
       "      <td>2023-08-04 00:00:00-04:00</td>\n",
       "      <td>4478.029785</td>\n",
       "    </tr>\n",
       "    <tr>\n",
       "      <th>4</th>\n",
       "      <td>2023-08-07 00:00:00-04:00</td>\n",
       "      <td>4518.439941</td>\n",
       "    </tr>\n",
       "  </tbody>\n",
       "</table>\n",
       "</div>"
      ],
      "text/plain": [
       "                        Date      S&P 500\n",
       "0  2023-08-01 00:00:00-04:00  4576.729980\n",
       "1  2023-08-02 00:00:00-04:00  4513.390137\n",
       "2  2023-08-03 00:00:00-04:00  4501.890137\n",
       "3  2023-08-04 00:00:00-04:00  4478.029785\n",
       "4  2023-08-07 00:00:00-04:00  4518.439941"
      ]
     },
     "execution_count": 17,
     "metadata": {},
     "output_type": "execute_result"
    }
   ],
   "source": [
    "sep = GSPC_1d.copy()\n",
    "sep = sep.reset_index() \n",
    "sep.head(5)"
   ]
  },
  {
   "cell_type": "code",
   "execution_count": 18,
   "id": "90629a9b",
   "metadata": {},
   "outputs": [],
   "source": [
    "# Força a conversão para datetime, tratando timezone corretamente\n",
    "sep['Date'] = pd.to_datetime(sep['Date'], utc=True)\n",
    "\n",
    "# Converte para fuso local (ou remove)\n",
    "sep['Date'] = sep['Date'].dt.tz_convert(None).dt.date\n"
   ]
  },
  {
   "cell_type": "code",
   "execution_count": 19,
   "id": "08c7027c",
   "metadata": {},
   "outputs": [
    {
     "data": {
      "text/html": [
       "<div>\n",
       "<style scoped>\n",
       "    .dataframe tbody tr th:only-of-type {\n",
       "        vertical-align: middle;\n",
       "    }\n",
       "\n",
       "    .dataframe tbody tr th {\n",
       "        vertical-align: top;\n",
       "    }\n",
       "\n",
       "    .dataframe thead th {\n",
       "        text-align: right;\n",
       "    }\n",
       "</style>\n",
       "<table border=\"1\" class=\"dataframe\">\n",
       "  <thead>\n",
       "    <tr style=\"text-align: right;\">\n",
       "      <th></th>\n",
       "      <th>Date</th>\n",
       "      <th>S&amp;P 500</th>\n",
       "    </tr>\n",
       "  </thead>\n",
       "  <tbody>\n",
       "    <tr>\n",
       "      <th>0</th>\n",
       "      <td>2023-08-01</td>\n",
       "      <td>4576.729980</td>\n",
       "    </tr>\n",
       "    <tr>\n",
       "      <th>1</th>\n",
       "      <td>2023-08-02</td>\n",
       "      <td>4513.390137</td>\n",
       "    </tr>\n",
       "    <tr>\n",
       "      <th>2</th>\n",
       "      <td>2023-08-03</td>\n",
       "      <td>4501.890137</td>\n",
       "    </tr>\n",
       "    <tr>\n",
       "      <th>3</th>\n",
       "      <td>2023-08-04</td>\n",
       "      <td>4478.029785</td>\n",
       "    </tr>\n",
       "    <tr>\n",
       "      <th>4</th>\n",
       "      <td>2023-08-07</td>\n",
       "      <td>4518.439941</td>\n",
       "    </tr>\n",
       "  </tbody>\n",
       "</table>\n",
       "</div>"
      ],
      "text/plain": [
       "         Date      S&P 500\n",
       "0  2023-08-01  4576.729980\n",
       "1  2023-08-02  4513.390137\n",
       "2  2023-08-03  4501.890137\n",
       "3  2023-08-04  4478.029785\n",
       "4  2023-08-07  4518.439941"
      ]
     },
     "execution_count": 19,
     "metadata": {},
     "output_type": "execute_result"
    }
   ],
   "source": [
    "sep.head(5)"
   ]
  },
  {
   "cell_type": "code",
   "execution_count": 20,
   "id": "e80a159d",
   "metadata": {},
   "outputs": [
    {
     "name": "stdout",
     "output_type": "stream",
     "text": [
      "✅ Dados carregados para TNX_1d\n"
     ]
    }
   ],
   "source": [
    "try:\n",
    "    TNX_1d = pd.read_csv('^TNX_1d.csv', index_col=0, parse_dates=True)\n",
    "    print(\"✅ Dados carregados para TNX_1d\")\n",
    "except FileNotFoundError:\n",
    "    print(\"❌ Arquivo TNX_1d.csv não encontrado.\")"
   ]
  },
  {
   "cell_type": "code",
   "execution_count": 21,
   "id": "ee569904",
   "metadata": {},
   "outputs": [
    {
     "data": {
      "text/html": [
       "<div>\n",
       "<style scoped>\n",
       "    .dataframe tbody tr th:only-of-type {\n",
       "        vertical-align: middle;\n",
       "    }\n",
       "\n",
       "    .dataframe tbody tr th {\n",
       "        vertical-align: top;\n",
       "    }\n",
       "\n",
       "    .dataframe thead th {\n",
       "        text-align: right;\n",
       "    }\n",
       "</style>\n",
       "<table border=\"1\" class=\"dataframe\">\n",
       "  <thead>\n",
       "    <tr style=\"text-align: right;\">\n",
       "      <th></th>\n",
       "      <th>Treasury 10Y Yield</th>\n",
       "    </tr>\n",
       "    <tr>\n",
       "      <th>Date</th>\n",
       "      <th></th>\n",
       "    </tr>\n",
       "  </thead>\n",
       "  <tbody>\n",
       "    <tr>\n",
       "      <th>2023-08-01 00:00:00-05:00</th>\n",
       "      <td>4.051</td>\n",
       "    </tr>\n",
       "    <tr>\n",
       "      <th>2023-08-02 00:00:00-05:00</th>\n",
       "      <td>4.078</td>\n",
       "    </tr>\n",
       "    <tr>\n",
       "      <th>2023-08-03 00:00:00-05:00</th>\n",
       "      <td>4.189</td>\n",
       "    </tr>\n",
       "    <tr>\n",
       "      <th>2023-08-04 00:00:00-05:00</th>\n",
       "      <td>4.060</td>\n",
       "    </tr>\n",
       "    <tr>\n",
       "      <th>2023-08-07 00:00:00-05:00</th>\n",
       "      <td>4.078</td>\n",
       "    </tr>\n",
       "  </tbody>\n",
       "</table>\n",
       "</div>"
      ],
      "text/plain": [
       "                           Treasury 10Y Yield\n",
       "Date                                         \n",
       "2023-08-01 00:00:00-05:00               4.051\n",
       "2023-08-02 00:00:00-05:00               4.078\n",
       "2023-08-03 00:00:00-05:00               4.189\n",
       "2023-08-04 00:00:00-05:00               4.060\n",
       "2023-08-07 00:00:00-05:00               4.078"
      ]
     },
     "execution_count": 21,
     "metadata": {},
     "output_type": "execute_result"
    }
   ],
   "source": [
    "TNX_1d.head(5)"
   ]
  },
  {
   "cell_type": "code",
   "execution_count": 22,
   "id": "cfd80b4e",
   "metadata": {},
   "outputs": [],
   "source": [
    "# Converter 'Date' para índice comum\n",
    "ibov.set_index('Date', inplace=True)\n",
    "eurbrl.set_index('Date', inplace=True)\n",
    "usdbrl.set_index('Date', inplace=True)\n",
    "sep.set_index('Date', inplace=True)\n",
    "# Concatenar ao longo das colunas\n",
    "df_concat = pd.concat([ibov, sep, eurbrl, usdbrl], axis=1).dropna().reset_index()\n"
   ]
  },
  {
   "cell_type": "code",
   "execution_count": 23,
   "id": "65da27b6",
   "metadata": {},
   "outputs": [
    {
     "data": {
      "text/html": [
       "<div>\n",
       "<style scoped>\n",
       "    .dataframe tbody tr th:only-of-type {\n",
       "        vertical-align: middle;\n",
       "    }\n",
       "\n",
       "    .dataframe tbody tr th {\n",
       "        vertical-align: top;\n",
       "    }\n",
       "\n",
       "    .dataframe thead th {\n",
       "        text-align: right;\n",
       "    }\n",
       "</style>\n",
       "<table border=\"1\" class=\"dataframe\">\n",
       "  <thead>\n",
       "    <tr style=\"text-align: right;\">\n",
       "      <th></th>\n",
       "      <th>Date</th>\n",
       "      <th>IBOVESPA</th>\n",
       "      <th>S&amp;P 500</th>\n",
       "      <th>Euro/Real</th>\n",
       "      <th>Dólar/Real</th>\n",
       "    </tr>\n",
       "  </thead>\n",
       "  <tbody>\n",
       "    <tr>\n",
       "      <th>0</th>\n",
       "      <td>2023-08-01</td>\n",
       "      <td>121248.0</td>\n",
       "      <td>4576.729980</td>\n",
       "      <td>5.2556</td>\n",
       "      <td>4.7920</td>\n",
       "    </tr>\n",
       "    <tr>\n",
       "      <th>1</th>\n",
       "      <td>2023-08-02</td>\n",
       "      <td>120859.0</td>\n",
       "      <td>4513.390137</td>\n",
       "      <td>5.2530</td>\n",
       "      <td>4.8104</td>\n",
       "    </tr>\n",
       "    <tr>\n",
       "      <th>2</th>\n",
       "      <td>2023-08-03</td>\n",
       "      <td>120586.0</td>\n",
       "      <td>4501.890137</td>\n",
       "      <td>5.3571</td>\n",
       "      <td>4.9164</td>\n",
       "    </tr>\n",
       "    <tr>\n",
       "      <th>3</th>\n",
       "      <td>2023-08-07</td>\n",
       "      <td>119380.0</td>\n",
       "      <td>4518.439941</td>\n",
       "      <td>5.3825</td>\n",
       "      <td>4.8990</td>\n",
       "    </tr>\n",
       "    <tr>\n",
       "      <th>4</th>\n",
       "      <td>2023-08-08</td>\n",
       "      <td>119090.0</td>\n",
       "      <td>4499.379883</td>\n",
       "      <td>5.3615</td>\n",
       "      <td>4.8986</td>\n",
       "    </tr>\n",
       "  </tbody>\n",
       "</table>\n",
       "</div>"
      ],
      "text/plain": [
       "         Date  IBOVESPA      S&P 500  Euro/Real  Dólar/Real\n",
       "0  2023-08-01  121248.0  4576.729980     5.2556      4.7920\n",
       "1  2023-08-02  120859.0  4513.390137     5.2530      4.8104\n",
       "2  2023-08-03  120586.0  4501.890137     5.3571      4.9164\n",
       "3  2023-08-07  119380.0  4518.439941     5.3825      4.8990\n",
       "4  2023-08-08  119090.0  4499.379883     5.3615      4.8986"
      ]
     },
     "execution_count": 23,
     "metadata": {},
     "output_type": "execute_result"
    }
   ],
   "source": [
    "df_concat.head(5)"
   ]
  },
  {
   "cell_type": "markdown",
   "id": "925d5c56",
   "metadata": {},
   "source": [
    "### Matriz de Markwitz\n"
   ]
  },
  {
   "cell_type": "code",
   "execution_count": 24,
   "id": "c2945e90",
   "metadata": {},
   "outputs": [],
   "source": [
    "import numpy as np"
   ]
  },
  {
   "cell_type": "code",
   "execution_count": 25,
   "id": "b0fd56fd",
   "metadata": {},
   "outputs": [],
   "source": [
    "precos = df_concat.drop(columns='Date')\n",
    "retornos = np.log(precos / precos.shift(1)).dropna()"
   ]
  },
  {
   "cell_type": "code",
   "execution_count": 32,
   "id": "e6712ed5",
   "metadata": {},
   "outputs": [],
   "source": [
    "media_retornos = retornos.mean() * 252  # Retorno médio diário, e o PyPortfolioOpt interpreta ele como anual.\n",
    "matriz_cov = retornos.cov()\n",
    "matriz_corr = retornos.corr()"
   ]
  },
  {
   "cell_type": "code",
   "execution_count": 33,
   "id": "9908a4ab",
   "metadata": {},
   "outputs": [
    {
     "data": {
      "image/png": "[encoded data removed]",
      "text/plain": [
       "<Figure size 800x600 with 2 Axes>"
      ]
     },
     "metadata": {},
     "output_type": "display_data"
    }
   ],
   "source": [
    "import seaborn as sns\n",
    "import matplotlib.pyplot as plt\n",
    "\n",
    "plt.figure(figsize=(8,6))\n",
    "sns.heatmap(matriz_corr, annot=True, cmap=\"coolwarm\", center=0)\n",
    "plt.title(\"Matriz de Correlação dos Retornos\")\n",
    "plt.show()\n"
   ]
  },
  {
   "cell_type": "code",
   "execution_count": 34,
   "id": "e3851d87",
   "metadata": {},
   "outputs": [
    {
     "name": "stdout",
     "output_type": "stream",
     "text": [
      "Requirement already satisfied: PyPortfolioOpt in c:\\users\\gabriel\\anaconda3\\lib\\site-packages (1.5.6)\n",
      "Requirement already satisfied: cvxpy>=1.1.19 in c:\\users\\gabriel\\anaconda3\\lib\\site-packages (from PyPortfolioOpt) (1.7.1)\n",
      "Requirement already satisfied: ecos<3.0.0,>=2.0.14 in c:\\users\\gabriel\\anaconda3\\lib\\site-packages (from PyPortfolioOpt) (2.0.14)\n",
      "Requirement already satisfied: numpy>=1.26.0 in c:\\users\\gabriel\\anaconda3\\lib\\site-packages (from PyPortfolioOpt) (1.26.4)\n",
      "Requirement already satisfied: pandas>=0.19 in c:\\users\\gabriel\\anaconda3\\lib\\site-packages (from PyPortfolioOpt) (2.2.2)\n",
      "Requirement already satisfied: plotly<6.0.0,>=5.0.0 in c:\\users\\gabriel\\anaconda3\\lib\\site-packages (from PyPortfolioOpt) (5.22.0)\n",
      "Requirement already satisfied: scipy>=1.3 in c:\\users\\gabriel\\anaconda3\\lib\\site-packages (from PyPortfolioOpt) (1.13.1)\n",
      "Requirement already satisfied: osqp>=0.6.2 in c:\\users\\gabriel\\anaconda3\\lib\\site-packages (from cvxpy>=1.1.19->PyPortfolioOpt) (1.0.4)\n",
      "Requirement already satisfied: clarabel>=0.5.0 in c:\\users\\gabriel\\anaconda3\\lib\\site-packages (from cvxpy>=1.1.19->PyPortfolioOpt) (0.11.1)\n",
      "Requirement already satisfied: scs>=3.2.4.post1 in c:\\users\\gabriel\\anaconda3\\lib\\site-packages (from cvxpy>=1.1.19->PyPortfolioOpt) (3.2.7.post2)\n",
      "Requirement already satisfied: python-dateutil>=2.8.2 in c:\\users\\gabriel\\anaconda3\\lib\\site-packages (from pandas>=0.19->PyPortfolioOpt) (2.9.0.post0)\n",
      "Requirement already satisfied: pytz>=2020.1 in c:\\users\\gabriel\\anaconda3\\lib\\site-packages (from pandas>=0.19->PyPortfolioOpt) (2024.1)\n",
      "Requirement already satisfied: tzdata>=2022.7 in c:\\users\\gabriel\\anaconda3\\lib\\site-packages (from pandas>=0.19->PyPortfolioOpt) (2023.3)\n",
      "Requirement already satisfied: tenacity>=6.2.0 in c:\\users\\gabriel\\anaconda3\\lib\\site-packages (from plotly<6.0.0,>=5.0.0->PyPortfolioOpt) (8.2.2)\n",
      "Requirement already satisfied: packaging in c:\\users\\gabriel\\appdata\\roaming\\python\\python312\\site-packages (from plotly<6.0.0,>=5.0.0->PyPortfolioOpt) (24.1)\n",
      "Requirement already satisfied: cffi in c:\\users\\gabriel\\anaconda3\\lib\\site-packages (from clarabel>=0.5.0->cvxpy>=1.1.19->PyPortfolioOpt) (1.16.0)\n",
      "Requirement already satisfied: jinja2 in c:\\users\\gabriel\\anaconda3\\lib\\site-packages (from osqp>=0.6.2->cvxpy>=1.1.19->PyPortfolioOpt) (3.1.4)\n",
      "Requirement already satisfied: setuptools in c:\\users\\gabriel\\anaconda3\\lib\\site-packages (from osqp>=0.6.2->cvxpy>=1.1.19->PyPortfolioOpt) (69.5.1)\n",
      "Requirement already satisfied: joblib in c:\\users\\gabriel\\anaconda3\\lib\\site-packages (from osqp>=0.6.2->cvxpy>=1.1.19->PyPortfolioOpt) (1.4.2)\n",
      "Requirement already satisfied: six>=1.5 in c:\\users\\gabriel\\anaconda3\\lib\\site-packages (from python-dateutil>=2.8.2->pandas>=0.19->PyPortfolioOpt) (1.16.0)\n",
      "Requirement already satisfied: pycparser in c:\\users\\gabriel\\anaconda3\\lib\\site-packages (from cffi->clarabel>=0.5.0->cvxpy>=1.1.19->PyPortfolioOpt) (2.21)\n",
      "Requirement already satisfied: MarkupSafe>=2.0 in c:\\users\\gabriel\\anaconda3\\lib\\site-packages (from jinja2->osqp>=0.6.2->cvxpy>=1.1.19->PyPortfolioOpt) (2.1.3)\n"
     ]
    }
   ],
   "source": [
    "!pip install PyPortfolioOpt\n",
    "from pypfopt import EfficientFrontier"
   ]
  },
  {
   "cell_type": "code",
   "execution_count": 35,
   "id": "1e6576a4",
   "metadata": {},
   "outputs": [],
   "source": [
    "# Inicializa a fronteira eficiente\n",
    "ef = EfficientFrontier(media_retornos, matriz_cov)"
   ]
  },
  {
   "cell_type": "code",
   "execution_count": 36,
   "id": "df97c810",
   "metadata": {},
   "outputs": [],
   "source": [
    "# Otimiza a carteira para máximo Sharpe Ratio\n",
    "pesos = ef.max_sharpe()"
   ]
  },
  {
   "cell_type": "code",
   "execution_count": 37,
   "id": "697a1974",
   "metadata": {},
   "outputs": [
    {
     "name": "stdout",
     "output_type": "stream",
     "text": [
      "Pesos ótimos:\n",
      " OrderedDict({'IBOVESPA': 0.01852, 'S&P 500': 0.47625, 'Euro/Real': 0.44832, 'Dólar/Real': 0.05691})\n",
      "Expected annual return: 15.1%\n",
      "Annual volatility: 0.6%\n",
      "Sharpe Ratio: 26.54\n"
     ]
    }
   ],
   "source": [
    "# Exibe os pesos calculados\n",
    "limpos = ef.clean_weights()\n",
    "print(\"Pesos ótimos:\\n\", limpos)\n",
    "\n",
    "# Desempenho estimado da carteira\n",
    "ret, vol, sharpe = ef.portfolio_performance(verbose=True)"
   ]
  },
  {
   "cell_type": "code",
   "execution_count": 40,
   "id": "8e1672c9",
   "metadata": {},
   "outputs": [
    {
     "data": {
      "image/png": "[encoded data removed]",
      "text/plain": [
       "<Figure size 800x600 with 1 Axes>"
      ]
     },
     "metadata": {},
     "output_type": "display_data"
    }
   ],
   "source": [
    "from pypfopt import EfficientFrontier, expected_returns, risk_models\n",
    "from pypfopt.plotting import plot_efficient_frontier\n",
    "import matplotlib.pyplot as plt\n",
    "\n",
    "# Supondo que 'precos' já está definido corretamente\n",
    "mu = expected_returns.mean_historical_return(precos)\n",
    "S = risk_models.sample_cov(precos)\n",
    "\n",
    "ef = EfficientFrontier(mu, S)\n",
    "\n",
    "fig, ax = plt.subplots(figsize=(8,6))\n",
    "plot_efficient_frontier(ef, ax=ax, show_assets=True)\n",
    "\n",
    "plt.title(\"Fronteira Eficiente de Markowitz\")\n",
    "plt.xlabel(\"Volatilidade (Risco)\")\n",
    "plt.ylabel(\"Retorno Esperado\")\n",
    "plt.grid(True)\n",
    "plt.tight_layout()\n",
    "plt.show()\n"
   ]
  },
  {
   "cell_type": "code",
   "execution_count": 41,
   "id": "ce182e13",
   "metadata": {},
   "outputs": [
    {
     "data": {
      "text/plain": [
       "<matplotlib.collections.PathCollection at 0x1f47b683a70>"
      ]
     },
     "execution_count": 41,
     "metadata": {},
     "output_type": "execute_result"
    }
   ],
   "source": [
    "from pypfopt.plotting import plot_efficient_frontier, plot_weights\n",
    "\n",
    "ret, vol, sharpe = ef.portfolio_performance()\n",
    "ax.scatter(vol, ret, marker=\"*\", s=100, c=\"r\", label=\"Máx. Sharpe\")\n"
   ]
  },
  {
   "cell_type": "code",
   "execution_count": 42,
   "id": "dfbad6a6",
   "metadata": {},
   "outputs": [
    {
     "name": "stdout",
     "output_type": "stream",
     "text": [
      "OrderedDict({'IBOVESPA': 0.0, 'S&P 500': 0.99883, 'Euro/Real': 0.00119, 'Dólar/Real': 0.0})\n"
     ]
    }
   ],
   "source": [
    "pesos_otimos = ef.clean_weights()\n",
    "print(pesos_otimos)\n"
   ]
  }
 ],
 "metadata": {
  "kernelspec": {
   "display_name": "base",
   "language": "python",
   "name": "python3"
  },
  "language_info": {
   "codemirror_mode": {
    "name": "ipython",
    "version": 3
   },
   "file_extension": ".py",
   "mimetype": "text/x-python",
   "name": "python",
   "nbconvert_exporter": "python",
   "pygments_lexer": "ipython3",
   "version": "3.12.4"
  }
 },
 "nbformat": 4,
 "nbformat_minor": 5
}
