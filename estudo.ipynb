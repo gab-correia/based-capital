{
 "cells": [
  {
   "cell_type": "markdown",
   "id": "bbb612ec",
   "metadata": {},
   "source": [
    "\n",
    "| Ticker      | Nome              | Tipo de dado               | Pode usar na matriz de Markowitz? | Observação importante                     |\n",
    "|-------------|-------------------|----------------------------|------------------------------------|-------------------------------------------|\n",
    "| ^BVSP       | IBOVESPA          | Nível do índice (pontos)   | ✅ Sim                             | Já está como “preço” diário               |\n",
    "| ^GSPC       | S&P 500           | Nível do índice (pontos)   | ✅ Sim                             | Já está como “preço” diário               |\n",
    "| ^TNX        | Treasury 10Y Yield| Yield (%)                  | ⚠️ Cautela ou evitar               | Não é um preço — é uma taxa de juros      |\n",
    "| USDBRL=X    | Dólar/Real        | Taxa de câmbio             | ✅ Sim                             | Usar normalmente                          |\n",
    "| EURBRL=X    | Euro/Real         | Taxa de câmbio             | ✅ Sim                             | Usar normalmente                          |\n"
   ]
  },
  {
   "cell_type": "markdown",
   "id": "cfb677e1",
   "metadata": {},
   "source": [
    "### IBOVESPA: Um Índice de Mercado\n",
    "\n",
    "O IBOVESPA é um índice de mercado que representa uma carteira teórica de ações da B3. Ele funciona como um indicador do desempenho médio das ações mais negociadas e representativas do mercado brasileiro.\n",
    "\n",
    "O “preço” do índice (exemplo: 121.248) pode ser interpretado como o “valor da cota” de uma carteira teórica. Assim como o preço de uma ação, o IBOVESPA flutua diariamente, subindo e descendo conforme as condições do mercado.\n",
    "\n",
    "### 🔁 O que você precisa para a matriz de retornos?\n",
    "\n",
    "Para realizar análises financeiras, como a construção de uma matriz de Markowitz, é necessário calcular uma série temporal de retornos logarítmicos. A fórmula para o retorno logarítmico é:\n",
    "\n",
    "$$\n",
    "r_t = \\ln\\left(\\frac{P_t}{P_{t-1}}\\right)\n",
    "$$\n",
    "\n",
    "Onde:\n",
    "- \\(P_t\\): valor do índice no dia \\(t\\)\n",
    "- \\(r_t\\): retorno logarítmico no dia \\(t\\)\n",
    "\n",
    "Essa fórmula é aplicável não apenas para índices, mas também para ações, moedas e outros ativos financeiros, desde que você tenha uma sequência numérica coerente no tempo.\n",
    "\n",
    "A imagem abaixo ilustra como os dados devem ser organizados para calcular os retornos:\n",
    "\n",
    "```\n",
    "Data       | Preço\n",
    "-----------|--------\n",
    "2023-08-01 | 121248\n",
    "2023-08-02 | 120859\n",
    "2023-08-03 | 120586\n",
    "...\n",
    "```\n",
    "\n",
    "Com essa sequência, você pode calcular os retornos diários e utilizá-los em análises financeiras avançadas.\n"
   ]
  },
  {
   "cell_type": "code",
   "execution_count": 163,
   "id": "68905cf0",
   "metadata": {},
   "outputs": [],
   "source": [
    "import pandas as pd"
   ]
  },
  {
   "cell_type": "code",
   "execution_count": 164,
   "id": "62246b71",
   "metadata": {},
   "outputs": [
    {
     "name": "stdout",
     "output_type": "stream",
     "text": [
      "✅ Dados carregados para USDBRLX_1d\n"
     ]
    }
   ],
   "source": [
    "try:\n",
    "    USDBRLX_1d = pd.read_csv('output/USDBRLX_1d.csv', index_col=0, parse_dates=True)\n",
    "    print(\"✅ Dados carregados para USDBRLX_1d\")\n",
    "except FileNotFoundError:\n",
    "    print(\"❌ Arquivo USDBRLX_1d.csv não encontrado.\")"
   ]
  },
  {
   "cell_type": "code",
   "execution_count": 165,
   "id": "f6b5c1b2",
   "metadata": {},
   "outputs": [
    {
     "data": {
      "text/html": [
       "<div>\n",
       "<style scoped>\n",
       "    .dataframe tbody tr th:only-of-type {\n",
       "        vertical-align: middle;\n",
       "    }\n",
       "\n",
       "    .dataframe tbody tr th {\n",
       "        vertical-align: top;\n",
       "    }\n",
       "\n",
       "    .dataframe thead th {\n",
       "        text-align: right;\n",
       "    }\n",
       "</style>\n",
       "<table border=\"1\" class=\"dataframe\">\n",
       "  <thead>\n",
       "    <tr style=\"text-align: right;\">\n",
       "      <th></th>\n",
       "      <th>Date</th>\n",
       "      <th>Dólar/Real</th>\n",
       "    </tr>\n",
       "  </thead>\n",
       "  <tbody>\n",
       "    <tr>\n",
       "      <th>0</th>\n",
       "      <td>2023-08-01 00:00:00+01:00</td>\n",
       "      <td>4.7247</td>\n",
       "    </tr>\n",
       "    <tr>\n",
       "      <th>1</th>\n",
       "      <td>2023-08-02 00:00:00+01:00</td>\n",
       "      <td>4.7920</td>\n",
       "    </tr>\n",
       "    <tr>\n",
       "      <th>2</th>\n",
       "      <td>2023-08-03 00:00:00+01:00</td>\n",
       "      <td>4.8104</td>\n",
       "    </tr>\n",
       "    <tr>\n",
       "      <th>3</th>\n",
       "      <td>2023-08-04 00:00:00+01:00</td>\n",
       "      <td>4.9164</td>\n",
       "    </tr>\n",
       "    <tr>\n",
       "      <th>4</th>\n",
       "      <td>2023-08-07 00:00:00+01:00</td>\n",
       "      <td>4.8854</td>\n",
       "    </tr>\n",
       "  </tbody>\n",
       "</table>\n",
       "</div>"
      ],
      "text/plain": [
       "                        Date  Dólar/Real\n",
       "0  2023-08-01 00:00:00+01:00      4.7247\n",
       "1  2023-08-02 00:00:00+01:00      4.7920\n",
       "2  2023-08-03 00:00:00+01:00      4.8104\n",
       "3  2023-08-04 00:00:00+01:00      4.9164\n",
       "4  2023-08-07 00:00:00+01:00      4.8854"
      ]
     },
     "execution_count": 165,
     "metadata": {},
     "output_type": "execute_result"
    }
   ],
   "source": [
    "usdbrl = USDBRLX_1d.copy()\n",
    "usdbrl = usdbrl.reset_index() \n",
    "usdbrl.head(5)"
   ]
  },
  {
   "cell_type": "code",
   "execution_count": 166,
   "id": "d866a264",
   "metadata": {},
   "outputs": [],
   "source": [
    "usdbrl['Date'] = pd.to_datetime(usdbrl['Date'], utc=True)\n",
    "\n",
    "# Converte para fuso local (ou remove)\n",
    "usdbrl['Date'] = usdbrl['Date'].dt.tz_convert(None).dt.date"
   ]
  },
  {
   "cell_type": "code",
   "execution_count": 167,
   "id": "0b5a65c3",
   "metadata": {},
   "outputs": [
    {
     "data": {
      "text/html": [
       "<div>\n",
       "<style scoped>\n",
       "    .dataframe tbody tr th:only-of-type {\n",
       "        vertical-align: middle;\n",
       "    }\n",
       "\n",
       "    .dataframe tbody tr th {\n",
       "        vertical-align: top;\n",
       "    }\n",
       "\n",
       "    .dataframe thead th {\n",
       "        text-align: right;\n",
       "    }\n",
       "</style>\n",
       "<table border=\"1\" class=\"dataframe\">\n",
       "  <thead>\n",
       "    <tr style=\"text-align: right;\">\n",
       "      <th></th>\n",
       "      <th>Date</th>\n",
       "      <th>Dólar/Real</th>\n",
       "    </tr>\n",
       "  </thead>\n",
       "  <tbody>\n",
       "    <tr>\n",
       "      <th>0</th>\n",
       "      <td>2023-07-31</td>\n",
       "      <td>4.7247</td>\n",
       "    </tr>\n",
       "    <tr>\n",
       "      <th>1</th>\n",
       "      <td>2023-08-01</td>\n",
       "      <td>4.7920</td>\n",
       "    </tr>\n",
       "    <tr>\n",
       "      <th>2</th>\n",
       "      <td>2023-08-02</td>\n",
       "      <td>4.8104</td>\n",
       "    </tr>\n",
       "    <tr>\n",
       "      <th>3</th>\n",
       "      <td>2023-08-03</td>\n",
       "      <td>4.9164</td>\n",
       "    </tr>\n",
       "    <tr>\n",
       "      <th>4</th>\n",
       "      <td>2023-08-06</td>\n",
       "      <td>4.8854</td>\n",
       "    </tr>\n",
       "  </tbody>\n",
       "</table>\n",
       "</div>"
      ],
      "text/plain": [
       "         Date  Dólar/Real\n",
       "0  2023-07-31      4.7247\n",
       "1  2023-08-01      4.7920\n",
       "2  2023-08-02      4.8104\n",
       "3  2023-08-03      4.9164\n",
       "4  2023-08-06      4.8854"
      ]
     },
     "execution_count": 167,
     "metadata": {},
     "output_type": "execute_result"
    }
   ],
   "source": [
    "usdbrl.head(5)"
   ]
  },
  {
   "cell_type": "code",
   "execution_count": 168,
   "id": "4310622c",
   "metadata": {},
   "outputs": [
    {
     "name": "stdout",
     "output_type": "stream",
     "text": [
      "✅ Dados carregados para EURBRLX_1d\n"
     ]
    }
   ],
   "source": [
    "try:\n",
    "    EURBRLX_1d = pd.read_csv('output/EURBRLX_1d.csv', index_col=0, parse_dates=True)\n",
    "    print(\"✅ Dados carregados para EURBRLX_1d\")\n",
    "except FileNotFoundError:\n",
    "    print(\"❌ Arquivo EURBRLX_1d.csv não encontrado.\")"
   ]
  },
  {
   "cell_type": "code",
   "execution_count": 169,
   "id": "5f07338f",
   "metadata": {},
   "outputs": [
    {
     "data": {
      "text/html": [
       "<div>\n",
       "<style scoped>\n",
       "    .dataframe tbody tr th:only-of-type {\n",
       "        vertical-align: middle;\n",
       "    }\n",
       "\n",
       "    .dataframe tbody tr th {\n",
       "        vertical-align: top;\n",
       "    }\n",
       "\n",
       "    .dataframe thead th {\n",
       "        text-align: right;\n",
       "    }\n",
       "</style>\n",
       "<table border=\"1\" class=\"dataframe\">\n",
       "  <thead>\n",
       "    <tr style=\"text-align: right;\">\n",
       "      <th></th>\n",
       "      <th>Date</th>\n",
       "      <th>Euro/Real</th>\n",
       "    </tr>\n",
       "  </thead>\n",
       "  <tbody>\n",
       "    <tr>\n",
       "      <th>0</th>\n",
       "      <td>2023-08-01 00:00:00+01:00</td>\n",
       "      <td>5.1952</td>\n",
       "    </tr>\n",
       "    <tr>\n",
       "      <th>1</th>\n",
       "      <td>2023-08-02 00:00:00+01:00</td>\n",
       "      <td>5.2556</td>\n",
       "    </tr>\n",
       "    <tr>\n",
       "      <th>2</th>\n",
       "      <td>2023-08-03 00:00:00+01:00</td>\n",
       "      <td>5.2530</td>\n",
       "    </tr>\n",
       "    <tr>\n",
       "      <th>3</th>\n",
       "      <td>2023-08-04 00:00:00+01:00</td>\n",
       "      <td>5.3571</td>\n",
       "    </tr>\n",
       "    <tr>\n",
       "      <th>4</th>\n",
       "      <td>2023-08-07 00:00:00+01:00</td>\n",
       "      <td>5.3579</td>\n",
       "    </tr>\n",
       "  </tbody>\n",
       "</table>\n",
       "</div>"
      ],
      "text/plain": [
       "                        Date  Euro/Real\n",
       "0  2023-08-01 00:00:00+01:00     5.1952\n",
       "1  2023-08-02 00:00:00+01:00     5.2556\n",
       "2  2023-08-03 00:00:00+01:00     5.2530\n",
       "3  2023-08-04 00:00:00+01:00     5.3571\n",
       "4  2023-08-07 00:00:00+01:00     5.3579"
      ]
     },
     "execution_count": 169,
     "metadata": {},
     "output_type": "execute_result"
    }
   ],
   "source": [
    "eurbrl = EURBRLX_1d.copy()\n",
    "eurbrl = eurbrl.reset_index() \n",
    "eurbrl.head(5)"
   ]
  },
  {
   "cell_type": "code",
   "execution_count": 170,
   "id": "e520676a",
   "metadata": {},
   "outputs": [],
   "source": [
    "eurbrl['Date'] = pd.to_datetime(eurbrl['Date'], utc=True)\n",
    "\n",
    "# Converte para fuso local (ou remove)\n",
    "eurbrl['Date'] = eurbrl['Date'].dt.tz_convert(None).dt.date"
   ]
  },
  {
   "cell_type": "code",
   "execution_count": 171,
   "id": "1c48854b",
   "metadata": {},
   "outputs": [
    {
     "data": {
      "text/html": [
       "<div>\n",
       "<style scoped>\n",
       "    .dataframe tbody tr th:only-of-type {\n",
       "        vertical-align: middle;\n",
       "    }\n",
       "\n",
       "    .dataframe tbody tr th {\n",
       "        vertical-align: top;\n",
       "    }\n",
       "\n",
       "    .dataframe thead th {\n",
       "        text-align: right;\n",
       "    }\n",
       "</style>\n",
       "<table border=\"1\" class=\"dataframe\">\n",
       "  <thead>\n",
       "    <tr style=\"text-align: right;\">\n",
       "      <th></th>\n",
       "      <th>Date</th>\n",
       "      <th>Euro/Real</th>\n",
       "    </tr>\n",
       "  </thead>\n",
       "  <tbody>\n",
       "    <tr>\n",
       "      <th>0</th>\n",
       "      <td>2023-07-31</td>\n",
       "      <td>5.1952</td>\n",
       "    </tr>\n",
       "    <tr>\n",
       "      <th>1</th>\n",
       "      <td>2023-08-01</td>\n",
       "      <td>5.2556</td>\n",
       "    </tr>\n",
       "    <tr>\n",
       "      <th>2</th>\n",
       "      <td>2023-08-02</td>\n",
       "      <td>5.2530</td>\n",
       "    </tr>\n",
       "    <tr>\n",
       "      <th>3</th>\n",
       "      <td>2023-08-03</td>\n",
       "      <td>5.3571</td>\n",
       "    </tr>\n",
       "    <tr>\n",
       "      <th>4</th>\n",
       "      <td>2023-08-06</td>\n",
       "      <td>5.3579</td>\n",
       "    </tr>\n",
       "  </tbody>\n",
       "</table>\n",
       "</div>"
      ],
      "text/plain": [
       "         Date  Euro/Real\n",
       "0  2023-07-31     5.1952\n",
       "1  2023-08-01     5.2556\n",
       "2  2023-08-02     5.2530\n",
       "3  2023-08-03     5.3571\n",
       "4  2023-08-06     5.3579"
      ]
     },
     "execution_count": 171,
     "metadata": {},
     "output_type": "execute_result"
    }
   ],
   "source": [
    "eurbrl.head(5)"
   ]
  },
  {
   "cell_type": "code",
   "execution_count": 172,
   "id": "ab893a0d",
   "metadata": {},
   "outputs": [
    {
     "name": "stdout",
     "output_type": "stream",
     "text": [
      "✅ Dados carregados para BVSP_1d\n"
     ]
    }
   ],
   "source": [
    "try:\n",
    "    BVSP_1d = pd.read_csv('output/^BVSP_1d.csv', index_col=0, parse_dates=True)\n",
    "    print(\"✅ Dados carregados para BVSP_1d\")\n",
    "except FileNotFoundError:\n",
    "    print(\"❌ Arquivo BVSP_1d.csv não encontrado.\")"
   ]
  },
  {
   "cell_type": "code",
   "execution_count": 173,
   "id": "fbd7e9c8",
   "metadata": {},
   "outputs": [
    {
     "data": {
      "text/html": [
       "<div>\n",
       "<style scoped>\n",
       "    .dataframe tbody tr th:only-of-type {\n",
       "        vertical-align: middle;\n",
       "    }\n",
       "\n",
       "    .dataframe tbody tr th {\n",
       "        vertical-align: top;\n",
       "    }\n",
       "\n",
       "    .dataframe thead th {\n",
       "        text-align: right;\n",
       "    }\n",
       "</style>\n",
       "<table border=\"1\" class=\"dataframe\">\n",
       "  <thead>\n",
       "    <tr style=\"text-align: right;\">\n",
       "      <th></th>\n",
       "      <th>Date</th>\n",
       "      <th>IBOVESPA</th>\n",
       "    </tr>\n",
       "  </thead>\n",
       "  <tbody>\n",
       "    <tr>\n",
       "      <th>0</th>\n",
       "      <td>2023-08-01 00:00:00-03:00</td>\n",
       "      <td>121248.0</td>\n",
       "    </tr>\n",
       "    <tr>\n",
       "      <th>1</th>\n",
       "      <td>2023-08-02 00:00:00-03:00</td>\n",
       "      <td>120859.0</td>\n",
       "    </tr>\n",
       "    <tr>\n",
       "      <th>2</th>\n",
       "      <td>2023-08-03 00:00:00-03:00</td>\n",
       "      <td>120586.0</td>\n",
       "    </tr>\n",
       "    <tr>\n",
       "      <th>3</th>\n",
       "      <td>2023-08-04 00:00:00-03:00</td>\n",
       "      <td>119508.0</td>\n",
       "    </tr>\n",
       "    <tr>\n",
       "      <th>4</th>\n",
       "      <td>2023-08-07 00:00:00-03:00</td>\n",
       "      <td>119380.0</td>\n",
       "    </tr>\n",
       "  </tbody>\n",
       "</table>\n",
       "</div>"
      ],
      "text/plain": [
       "                       Date  IBOVESPA\n",
       "0 2023-08-01 00:00:00-03:00  121248.0\n",
       "1 2023-08-02 00:00:00-03:00  120859.0\n",
       "2 2023-08-03 00:00:00-03:00  120586.0\n",
       "3 2023-08-04 00:00:00-03:00  119508.0\n",
       "4 2023-08-07 00:00:00-03:00  119380.0"
      ]
     },
     "execution_count": 173,
     "metadata": {},
     "output_type": "execute_result"
    }
   ],
   "source": [
    "ibov = BVSP_1d.copy()\n",
    "ibov = ibov.reset_index() \n",
    "ibov.head(5)"
   ]
  },
  {
   "cell_type": "code",
   "execution_count": 174,
   "id": "54d9f08f",
   "metadata": {},
   "outputs": [],
   "source": [
    "ibov['Date'] = pd.to_datetime(ibov['Date'], utc=True)\n",
    "\n",
    "# Converte para fuso local (ou remove)\n",
    "ibov['Date'] = ibov['Date'].dt.tz_convert(None).dt.date"
   ]
  },
  {
   "cell_type": "code",
   "execution_count": 175,
   "id": "04f887a5",
   "metadata": {},
   "outputs": [
    {
     "data": {
      "text/html": [
       "<div>\n",
       "<style scoped>\n",
       "    .dataframe tbody tr th:only-of-type {\n",
       "        vertical-align: middle;\n",
       "    }\n",
       "\n",
       "    .dataframe tbody tr th {\n",
       "        vertical-align: top;\n",
       "    }\n",
       "\n",
       "    .dataframe thead th {\n",
       "        text-align: right;\n",
       "    }\n",
       "</style>\n",
       "<table border=\"1\" class=\"dataframe\">\n",
       "  <thead>\n",
       "    <tr style=\"text-align: right;\">\n",
       "      <th></th>\n",
       "      <th>Date</th>\n",
       "      <th>IBOVESPA</th>\n",
       "    </tr>\n",
       "  </thead>\n",
       "  <tbody>\n",
       "    <tr>\n",
       "      <th>0</th>\n",
       "      <td>2023-08-01</td>\n",
       "      <td>121248.0</td>\n",
       "    </tr>\n",
       "    <tr>\n",
       "      <th>1</th>\n",
       "      <td>2023-08-02</td>\n",
       "      <td>120859.0</td>\n",
       "    </tr>\n",
       "    <tr>\n",
       "      <th>2</th>\n",
       "      <td>2023-08-03</td>\n",
       "      <td>120586.0</td>\n",
       "    </tr>\n",
       "    <tr>\n",
       "      <th>3</th>\n",
       "      <td>2023-08-04</td>\n",
       "      <td>119508.0</td>\n",
       "    </tr>\n",
       "    <tr>\n",
       "      <th>4</th>\n",
       "      <td>2023-08-07</td>\n",
       "      <td>119380.0</td>\n",
       "    </tr>\n",
       "  </tbody>\n",
       "</table>\n",
       "</div>"
      ],
      "text/plain": [
       "         Date  IBOVESPA\n",
       "0  2023-08-01  121248.0\n",
       "1  2023-08-02  120859.0\n",
       "2  2023-08-03  120586.0\n",
       "3  2023-08-04  119508.0\n",
       "4  2023-08-07  119380.0"
      ]
     },
     "execution_count": 175,
     "metadata": {},
     "output_type": "execute_result"
    }
   ],
   "source": [
    "ibov.head(5)"
   ]
  },
  {
   "cell_type": "code",
   "execution_count": 176,
   "id": "b4f58e8c",
   "metadata": {},
   "outputs": [
    {
     "name": "stdout",
     "output_type": "stream",
     "text": [
      "✅ Dados carregados para GSPC_1d\n"
     ]
    }
   ],
   "source": [
    "try:\n",
    "    GSPC_1d = pd.read_csv('output/^GSPC_1d.csv', index_col=0, parse_dates=True)\n",
    "    print(\"✅ Dados carregados para GSPC_1d\")\n",
    "except FileNotFoundError:\n",
    "    print(\"❌ Arquivo GSPC_1d.csv não encontrado.\")"
   ]
  },
  {
   "cell_type": "code",
   "execution_count": 177,
   "id": "b0cf7738",
   "metadata": {},
   "outputs": [
    {
     "data": {
      "text/html": [
       "<div>\n",
       "<style scoped>\n",
       "    .dataframe tbody tr th:only-of-type {\n",
       "        vertical-align: middle;\n",
       "    }\n",
       "\n",
       "    .dataframe tbody tr th {\n",
       "        vertical-align: top;\n",
       "    }\n",
       "\n",
       "    .dataframe thead th {\n",
       "        text-align: right;\n",
       "    }\n",
       "</style>\n",
       "<table border=\"1\" class=\"dataframe\">\n",
       "  <thead>\n",
       "    <tr style=\"text-align: right;\">\n",
       "      <th></th>\n",
       "      <th>Date</th>\n",
       "      <th>S&amp;P 500</th>\n",
       "    </tr>\n",
       "  </thead>\n",
       "  <tbody>\n",
       "    <tr>\n",
       "      <th>0</th>\n",
       "      <td>2023-08-02 00:00:00-04:00</td>\n",
       "      <td>4513.390137</td>\n",
       "    </tr>\n",
       "    <tr>\n",
       "      <th>1</th>\n",
       "      <td>2023-08-03 00:00:00-04:00</td>\n",
       "      <td>4501.890137</td>\n",
       "    </tr>\n",
       "    <tr>\n",
       "      <th>2</th>\n",
       "      <td>2023-08-04 00:00:00-04:00</td>\n",
       "      <td>4478.029785</td>\n",
       "    </tr>\n",
       "    <tr>\n",
       "      <th>3</th>\n",
       "      <td>2023-08-07 00:00:00-04:00</td>\n",
       "      <td>4518.439941</td>\n",
       "    </tr>\n",
       "    <tr>\n",
       "      <th>4</th>\n",
       "      <td>2023-08-08 00:00:00-04:00</td>\n",
       "      <td>4499.379883</td>\n",
       "    </tr>\n",
       "  </tbody>\n",
       "</table>\n",
       "</div>"
      ],
      "text/plain": [
       "                        Date      S&P 500\n",
       "0  2023-08-02 00:00:00-04:00  4513.390137\n",
       "1  2023-08-03 00:00:00-04:00  4501.890137\n",
       "2  2023-08-04 00:00:00-04:00  4478.029785\n",
       "3  2023-08-07 00:00:00-04:00  4518.439941\n",
       "4  2023-08-08 00:00:00-04:00  4499.379883"
      ]
     },
     "execution_count": 177,
     "metadata": {},
     "output_type": "execute_result"
    }
   ],
   "source": [
    "sep = GSPC_1d.copy()\n",
    "sep = sep.reset_index() \n",
    "sep.head(5)"
   ]
  },
  {
   "cell_type": "code",
   "execution_count": 178,
   "id": "90629a9b",
   "metadata": {},
   "outputs": [],
   "source": [
    "# Força a conversão para datetime, tratando timezone corretamente\n",
    "sep['Date'] = pd.to_datetime(sep['Date'], utc=True)\n",
    "\n",
    "# Converte para fuso local (ou remove)\n",
    "sep['Date'] = sep['Date'].dt.tz_convert(None).dt.date\n"
   ]
  },
  {
   "cell_type": "code",
   "execution_count": 179,
   "id": "08c7027c",
   "metadata": {},
   "outputs": [
    {
     "data": {
      "text/html": [
       "<div>\n",
       "<style scoped>\n",
       "    .dataframe tbody tr th:only-of-type {\n",
       "        vertical-align: middle;\n",
       "    }\n",
       "\n",
       "    .dataframe tbody tr th {\n",
       "        vertical-align: top;\n",
       "    }\n",
       "\n",
       "    .dataframe thead th {\n",
       "        text-align: right;\n",
       "    }\n",
       "</style>\n",
       "<table border=\"1\" class=\"dataframe\">\n",
       "  <thead>\n",
       "    <tr style=\"text-align: right;\">\n",
       "      <th></th>\n",
       "      <th>Date</th>\n",
       "      <th>S&amp;P 500</th>\n",
       "    </tr>\n",
       "  </thead>\n",
       "  <tbody>\n",
       "    <tr>\n",
       "      <th>0</th>\n",
       "      <td>2023-08-02</td>\n",
       "      <td>4513.390137</td>\n",
       "    </tr>\n",
       "    <tr>\n",
       "      <th>1</th>\n",
       "      <td>2023-08-03</td>\n",
       "      <td>4501.890137</td>\n",
       "    </tr>\n",
       "    <tr>\n",
       "      <th>2</th>\n",
       "      <td>2023-08-04</td>\n",
       "      <td>4478.029785</td>\n",
       "    </tr>\n",
       "    <tr>\n",
       "      <th>3</th>\n",
       "      <td>2023-08-07</td>\n",
       "      <td>4518.439941</td>\n",
       "    </tr>\n",
       "    <tr>\n",
       "      <th>4</th>\n",
       "      <td>2023-08-08</td>\n",
       "      <td>4499.379883</td>\n",
       "    </tr>\n",
       "  </tbody>\n",
       "</table>\n",
       "</div>"
      ],
      "text/plain": [
       "         Date      S&P 500\n",
       "0  2023-08-02  4513.390137\n",
       "1  2023-08-03  4501.890137\n",
       "2  2023-08-04  4478.029785\n",
       "3  2023-08-07  4518.439941\n",
       "4  2023-08-08  4499.379883"
      ]
     },
     "execution_count": 179,
     "metadata": {},
     "output_type": "execute_result"
    }
   ],
   "source": [
    "sep.head(5)"
   ]
  },
  {
   "cell_type": "code",
   "execution_count": 180,
   "id": "e80a159d",
   "metadata": {},
   "outputs": [
    {
     "name": "stdout",
     "output_type": "stream",
     "text": [
      "✅ Dados carregados para TNX_1d\n"
     ]
    }
   ],
   "source": [
    "try:\n",
    "    TNX_1d = pd.read_csv('output/^TNX_1d.csv', index_col=0, parse_dates=True)\n",
    "    print(\"✅ Dados carregados para TNX_1d\")\n",
    "except FileNotFoundError:\n",
    "    print(\"❌ Arquivo TNX_1d.csv não encontrado.\")"
   ]
  },
  {
   "cell_type": "code",
   "execution_count": 181,
   "id": "ee569904",
   "metadata": {},
   "outputs": [
    {
     "data": {
      "text/html": [
       "<div>\n",
       "<style scoped>\n",
       "    .dataframe tbody tr th:only-of-type {\n",
       "        vertical-align: middle;\n",
       "    }\n",
       "\n",
       "    .dataframe tbody tr th {\n",
       "        vertical-align: top;\n",
       "    }\n",
       "\n",
       "    .dataframe thead th {\n",
       "        text-align: right;\n",
       "    }\n",
       "</style>\n",
       "<table border=\"1\" class=\"dataframe\">\n",
       "  <thead>\n",
       "    <tr style=\"text-align: right;\">\n",
       "      <th></th>\n",
       "      <th>Treasury 10Y Yield</th>\n",
       "    </tr>\n",
       "    <tr>\n",
       "      <th>Date</th>\n",
       "      <th></th>\n",
       "    </tr>\n",
       "  </thead>\n",
       "  <tbody>\n",
       "    <tr>\n",
       "      <th>2023-08-01 00:00:00-05:00</th>\n",
       "      <td>4.051</td>\n",
       "    </tr>\n",
       "    <tr>\n",
       "      <th>2023-08-02 00:00:00-05:00</th>\n",
       "      <td>4.078</td>\n",
       "    </tr>\n",
       "    <tr>\n",
       "      <th>2023-08-03 00:00:00-05:00</th>\n",
       "      <td>4.189</td>\n",
       "    </tr>\n",
       "    <tr>\n",
       "      <th>2023-08-04 00:00:00-05:00</th>\n",
       "      <td>4.060</td>\n",
       "    </tr>\n",
       "    <tr>\n",
       "      <th>2023-08-07 00:00:00-05:00</th>\n",
       "      <td>4.078</td>\n",
       "    </tr>\n",
       "  </tbody>\n",
       "</table>\n",
       "</div>"
      ],
      "text/plain": [
       "                           Treasury 10Y Yield\n",
       "Date                                         \n",
       "2023-08-01 00:00:00-05:00               4.051\n",
       "2023-08-02 00:00:00-05:00               4.078\n",
       "2023-08-03 00:00:00-05:00               4.189\n",
       "2023-08-04 00:00:00-05:00               4.060\n",
       "2023-08-07 00:00:00-05:00               4.078"
      ]
     },
     "execution_count": 181,
     "metadata": {},
     "output_type": "execute_result"
    }
   ],
   "source": [
    "TNX_1d.head(5)"
   ]
  },
  {
   "cell_type": "code",
   "execution_count": 182,
   "id": "0569060c",
   "metadata": {},
   "outputs": [
    {
     "name": "stdout",
     "output_type": "stream",
     "text": [
      "✅ Dados carregados para CDI_SGS_12\n"
     ]
    },
    {
     "name": "stderr",
     "output_type": "stream",
     "text": [
      "<>:2: SyntaxWarning: invalid escape sequence '\\C'\n",
      "<>:2: SyntaxWarning: invalid escape sequence '\\C'\n",
      "C:\\Users\\gabriel\\AppData\\Local\\Temp\\ipykernel_35104\\2491463821.py:2: SyntaxWarning: invalid escape sequence '\\C'\n",
      "  CDI_SGS_12 = pd.read_csv('output\\CDI_SGS_12.csv', index_col=0, parse_dates=True)\n"
     ]
    }
   ],
   "source": [
    "try:\n",
    "    CDI_SGS_12 = pd.read_csv('output\\CDI_SGS_12.csv', index_col=0, parse_dates=True)\n",
    "    print(\"✅ Dados carregados para CDI_SGS_12\")\n",
    "except FileNotFoundError:\n",
    "    print(\"❌ Arquivo CDI_SGS_12.csv não encontrado.\")"
   ]
  },
  {
   "cell_type": "code",
   "execution_count": 183,
   "id": "b36bfc0c",
   "metadata": {},
   "outputs": [
    {
     "data": {
      "text/html": [
       "<div>\n",
       "<style scoped>\n",
       "    .dataframe tbody tr th:only-of-type {\n",
       "        vertical-align: middle;\n",
       "    }\n",
       "\n",
       "    .dataframe tbody tr th {\n",
       "        vertical-align: top;\n",
       "    }\n",
       "\n",
       "    .dataframe thead th {\n",
       "        text-align: right;\n",
       "    }\n",
       "</style>\n",
       "<table border=\"1\" class=\"dataframe\">\n",
       "  <thead>\n",
       "    <tr style=\"text-align: right;\">\n",
       "      <th></th>\n",
       "      <th>Date</th>\n",
       "      <th>CDI</th>\n",
       "    </tr>\n",
       "  </thead>\n",
       "  <tbody>\n",
       "    <tr>\n",
       "      <th>0</th>\n",
       "      <td>2024-08-01</td>\n",
       "      <td>0.03927</td>\n",
       "    </tr>\n",
       "    <tr>\n",
       "      <th>1</th>\n",
       "      <td>2024-08-02</td>\n",
       "      <td>0.03927</td>\n",
       "    </tr>\n",
       "    <tr>\n",
       "      <th>2</th>\n",
       "      <td>2024-08-05</td>\n",
       "      <td>0.03927</td>\n",
       "    </tr>\n",
       "    <tr>\n",
       "      <th>3</th>\n",
       "      <td>2024-08-06</td>\n",
       "      <td>0.03927</td>\n",
       "    </tr>\n",
       "    <tr>\n",
       "      <th>4</th>\n",
       "      <td>2024-08-07</td>\n",
       "      <td>0.03927</td>\n",
       "    </tr>\n",
       "  </tbody>\n",
       "</table>\n",
       "</div>"
      ],
      "text/plain": [
       "        Date      CDI\n",
       "0 2024-08-01  0.03927\n",
       "1 2024-08-02  0.03927\n",
       "2 2024-08-05  0.03927\n",
       "3 2024-08-06  0.03927\n",
       "4 2024-08-07  0.03927"
      ]
     },
     "execution_count": 183,
     "metadata": {},
     "output_type": "execute_result"
    }
   ],
   "source": [
    "cdi = CDI_SGS_12.copy()\n",
    "cdi = cdi.reset_index() \n",
    "cdi.head(5)"
   ]
  },
  {
   "cell_type": "code",
   "execution_count": 184,
   "id": "cfd80b4e",
   "metadata": {},
   "outputs": [],
   "source": [
    "# Converter 'Date' para índice comum\n",
    "ibov.set_index('Date', inplace=True)\n",
    "eurbrl.set_index('Date', inplace=True)\n",
    "usdbrl.set_index('Date', inplace=True)\n",
    "sep.set_index('Date', inplace=True)\n",
    "\n",
    "# Concatenar ao longo das colunas\n",
    "df_concat = pd.concat([ibov, sep, eurbrl, usdbrl], axis=1).dropna().reset_index()\n"
   ]
  },
  {
   "cell_type": "code",
   "execution_count": 185,
   "id": "65da27b6",
   "metadata": {},
   "outputs": [
    {
     "data": {
      "text/html": [
       "<div>\n",
       "<style scoped>\n",
       "    .dataframe tbody tr th:only-of-type {\n",
       "        vertical-align: middle;\n",
       "    }\n",
       "\n",
       "    .dataframe tbody tr th {\n",
       "        vertical-align: top;\n",
       "    }\n",
       "\n",
       "    .dataframe thead th {\n",
       "        text-align: right;\n",
       "    }\n",
       "</style>\n",
       "<table border=\"1\" class=\"dataframe\">\n",
       "  <thead>\n",
       "    <tr style=\"text-align: right;\">\n",
       "      <th></th>\n",
       "      <th>Date</th>\n",
       "      <th>IBOVESPA</th>\n",
       "      <th>S&amp;P 500</th>\n",
       "      <th>Euro/Real</th>\n",
       "      <th>Dólar/Real</th>\n",
       "    </tr>\n",
       "  </thead>\n",
       "  <tbody>\n",
       "    <tr>\n",
       "      <th>0</th>\n",
       "      <td>2023-08-02</td>\n",
       "      <td>120859.0</td>\n",
       "      <td>4513.390137</td>\n",
       "      <td>5.2530</td>\n",
       "      <td>4.8104</td>\n",
       "    </tr>\n",
       "    <tr>\n",
       "      <th>1</th>\n",
       "      <td>2023-08-03</td>\n",
       "      <td>120586.0</td>\n",
       "      <td>4501.890137</td>\n",
       "      <td>5.3571</td>\n",
       "      <td>4.9164</td>\n",
       "    </tr>\n",
       "    <tr>\n",
       "      <th>2</th>\n",
       "      <td>2023-08-07</td>\n",
       "      <td>119380.0</td>\n",
       "      <td>4518.439941</td>\n",
       "      <td>5.3825</td>\n",
       "      <td>4.8990</td>\n",
       "    </tr>\n",
       "    <tr>\n",
       "      <th>3</th>\n",
       "      <td>2023-08-08</td>\n",
       "      <td>119090.0</td>\n",
       "      <td>4499.379883</td>\n",
       "      <td>5.3615</td>\n",
       "      <td>4.8986</td>\n",
       "    </tr>\n",
       "    <tr>\n",
       "      <th>4</th>\n",
       "      <td>2023-08-09</td>\n",
       "      <td>118409.0</td>\n",
       "      <td>4467.709961</td>\n",
       "      <td>5.3787</td>\n",
       "      <td>4.9017</td>\n",
       "    </tr>\n",
       "  </tbody>\n",
       "</table>\n",
       "</div>"
      ],
      "text/plain": [
       "         Date  IBOVESPA      S&P 500  Euro/Real  Dólar/Real\n",
       "0  2023-08-02  120859.0  4513.390137     5.2530      4.8104\n",
       "1  2023-08-03  120586.0  4501.890137     5.3571      4.9164\n",
       "2  2023-08-07  119380.0  4518.439941     5.3825      4.8990\n",
       "3  2023-08-08  119090.0  4499.379883     5.3615      4.8986\n",
       "4  2023-08-09  118409.0  4467.709961     5.3787      4.9017"
      ]
     },
     "execution_count": 185,
     "metadata": {},
     "output_type": "execute_result"
    }
   ],
   "source": [
    "df_concat.head(5)"
   ]
  },
  {
   "cell_type": "code",
   "execution_count": 186,
   "id": "091f3d50",
   "metadata": {},
   "outputs": [],
   "source": [
    "cdi['CDI'] = cdi['CDI'] / 100  # transforma de % para decimal, se necessário\n",
    "\n",
    "# Calcular o fator acumulado (como se R$1 estivesse rendendo CDI)\n",
    "cdi['CDI_acumulado'] = (1 + cdi['CDI']).cumprod()"
   ]
  },
  {
   "cell_type": "code",
   "execution_count": 187,
   "id": "24e965e7",
   "metadata": {},
   "outputs": [
    {
     "data": {
      "text/html": [
       "<div>\n",
       "<style scoped>\n",
       "    .dataframe tbody tr th:only-of-type {\n",
       "        vertical-align: middle;\n",
       "    }\n",
       "\n",
       "    .dataframe tbody tr th {\n",
       "        vertical-align: top;\n",
       "    }\n",
       "\n",
       "    .dataframe thead th {\n",
       "        text-align: right;\n",
       "    }\n",
       "</style>\n",
       "<table border=\"1\" class=\"dataframe\">\n",
       "  <thead>\n",
       "    <tr style=\"text-align: right;\">\n",
       "      <th></th>\n",
       "      <th>Date</th>\n",
       "      <th>CDI</th>\n",
       "      <th>CDI_acumulado</th>\n",
       "    </tr>\n",
       "  </thead>\n",
       "  <tbody>\n",
       "    <tr>\n",
       "      <th>0</th>\n",
       "      <td>2024-08-01</td>\n",
       "      <td>0.000393</td>\n",
       "      <td>1.000393</td>\n",
       "    </tr>\n",
       "    <tr>\n",
       "      <th>1</th>\n",
       "      <td>2024-08-02</td>\n",
       "      <td>0.000393</td>\n",
       "      <td>1.000786</td>\n",
       "    </tr>\n",
       "    <tr>\n",
       "      <th>2</th>\n",
       "      <td>2024-08-05</td>\n",
       "      <td>0.000393</td>\n",
       "      <td>1.001179</td>\n",
       "    </tr>\n",
       "    <tr>\n",
       "      <th>3</th>\n",
       "      <td>2024-08-06</td>\n",
       "      <td>0.000393</td>\n",
       "      <td>1.001572</td>\n",
       "    </tr>\n",
       "    <tr>\n",
       "      <th>4</th>\n",
       "      <td>2024-08-07</td>\n",
       "      <td>0.000393</td>\n",
       "      <td>1.001965</td>\n",
       "    </tr>\n",
       "  </tbody>\n",
       "</table>\n",
       "</div>"
      ],
      "text/plain": [
       "        Date       CDI  CDI_acumulado\n",
       "0 2024-08-01  0.000393       1.000393\n",
       "1 2024-08-02  0.000393       1.000786\n",
       "2 2024-08-05  0.000393       1.001179\n",
       "3 2024-08-06  0.000393       1.001572\n",
       "4 2024-08-07  0.000393       1.001965"
      ]
     },
     "execution_count": 187,
     "metadata": {},
     "output_type": "execute_result"
    }
   ],
   "source": [
    "cdi.head(5)\n"
   ]
  },
  {
   "cell_type": "markdown",
   "id": "925d5c56",
   "metadata": {},
   "source": [
    "### Matriz de Markwitz\n"
   ]
  },
  {
   "cell_type": "code",
   "execution_count": 188,
   "id": "c2945e90",
   "metadata": {},
   "outputs": [
    {
     "name": "stdout",
     "output_type": "stream",
     "text": [
      "Requirement already satisfied: PyPortfolioOpt in c:\\users\\gabriel\\anaconda3\\lib\\site-packages (1.5.6)\n",
      "Requirement already satisfied: cvxpy>=1.1.19 in c:\\users\\gabriel\\anaconda3\\lib\\site-packages (from PyPortfolioOpt) (1.7.1)\n",
      "Requirement already satisfied: ecos<3.0.0,>=2.0.14 in c:\\users\\gabriel\\anaconda3\\lib\\site-packages (from PyPortfolioOpt) (2.0.14)\n",
      "Requirement already satisfied: numpy>=1.26.0 in c:\\users\\gabriel\\anaconda3\\lib\\site-packages (from PyPortfolioOpt) (1.26.4)\n",
      "Requirement already satisfied: pandas>=0.19 in c:\\users\\gabriel\\anaconda3\\lib\\site-packages (from PyPortfolioOpt) (2.2.2)\n",
      "Requirement already satisfied: plotly<6.0.0,>=5.0.0 in c:\\users\\gabriel\\anaconda3\\lib\\site-packages (from PyPortfolioOpt) (5.22.0)\n",
      "Requirement already satisfied: scipy>=1.3 in c:\\users\\gabriel\\anaconda3\\lib\\site-packages (from PyPortfolioOpt) (1.13.1)\n",
      "Requirement already satisfied: osqp>=0.6.2 in c:\\users\\gabriel\\anaconda3\\lib\\site-packages (from cvxpy>=1.1.19->PyPortfolioOpt) (1.0.4)\n",
      "Requirement already satisfied: clarabel>=0.5.0 in c:\\users\\gabriel\\anaconda3\\lib\\site-packages (from cvxpy>=1.1.19->PyPortfolioOpt) (0.11.1)\n",
      "Requirement already satisfied: scs>=3.2.4.post1 in c:\\users\\gabriel\\anaconda3\\lib\\site-packages (from cvxpy>=1.1.19->PyPortfolioOpt) (3.2.7.post2)\n",
      "Requirement already satisfied: python-dateutil>=2.8.2 in c:\\users\\gabriel\\anaconda3\\lib\\site-packages (from pandas>=0.19->PyPortfolioOpt) (2.9.0.post0)\n",
      "Requirement already satisfied: pytz>=2020.1 in c:\\users\\gabriel\\anaconda3\\lib\\site-packages (from pandas>=0.19->PyPortfolioOpt) (2024.1)\n",
      "Requirement already satisfied: tzdata>=2022.7 in c:\\users\\gabriel\\anaconda3\\lib\\site-packages (from pandas>=0.19->PyPortfolioOpt) (2023.3)\n",
      "Requirement already satisfied: tenacity>=6.2.0 in c:\\users\\gabriel\\anaconda3\\lib\\site-packages (from plotly<6.0.0,>=5.0.0->PyPortfolioOpt) (8.2.2)\n",
      "Requirement already satisfied: packaging in c:\\users\\gabriel\\appdata\\roaming\\python\\python312\\site-packages (from plotly<6.0.0,>=5.0.0->PyPortfolioOpt) (24.1)\n",
      "Requirement already satisfied: cffi in c:\\users\\gabriel\\anaconda3\\lib\\site-packages (from clarabel>=0.5.0->cvxpy>=1.1.19->PyPortfolioOpt) (1.16.0)\n",
      "Requirement already satisfied: jinja2 in c:\\users\\gabriel\\anaconda3\\lib\\site-packages (from osqp>=0.6.2->cvxpy>=1.1.19->PyPortfolioOpt) (3.1.4)\n",
      "Requirement already satisfied: setuptools in c:\\users\\gabriel\\anaconda3\\lib\\site-packages (from osqp>=0.6.2->cvxpy>=1.1.19->PyPortfolioOpt) (69.5.1)\n",
      "Requirement already satisfied: joblib in c:\\users\\gabriel\\anaconda3\\lib\\site-packages (from osqp>=0.6.2->cvxpy>=1.1.19->PyPortfolioOpt) (1.4.2)\n",
      "Requirement already satisfied: six>=1.5 in c:\\users\\gabriel\\anaconda3\\lib\\site-packages (from python-dateutil>=2.8.2->pandas>=0.19->PyPortfolioOpt) (1.16.0)\n",
      "Requirement already satisfied: pycparser in c:\\users\\gabriel\\anaconda3\\lib\\site-packages (from cffi->clarabel>=0.5.0->cvxpy>=1.1.19->PyPortfolioOpt) (2.21)\n",
      "Requirement already satisfied: MarkupSafe>=2.0 in c:\\users\\gabriel\\anaconda3\\lib\\site-packages (from jinja2->osqp>=0.6.2->cvxpy>=1.1.19->PyPortfolioOpt) (2.1.3)\n"
     ]
    }
   ],
   "source": [
    "!pip install PyPortfolioOpt\n",
    "import numpy as np\n",
    "from pypfopt import EfficientFrontier, expected_returns, risk_models\n",
    "from pypfopt.plotting import plot_weights\n",
    "import seaborn as sns\n",
    "import matplotlib.pyplot as plt"
   ]
  },
  {
   "cell_type": "markdown",
   "id": "06260119",
   "metadata": {},
   "source": [
    "#### CALCULAR RETORNOS E MATRIZ DE COVARIÂNCIA"
   ]
  },
  {
   "cell_type": "code",
   "execution_count": 189,
   "id": "b0fd56fd",
   "metadata": {},
   "outputs": [],
   "source": [
    "precos = df_concat.drop(columns='Date')\n",
    "retornos = np.log(precos / precos.shift(1)).dropna()"
   ]
  },
  {
   "cell_type": "code",
   "execution_count": 190,
   "id": "514521ac",
   "metadata": {},
   "outputs": [],
   "source": [
    "mu = expected_returns.mean_historical_return(precos)\n",
    "S = risk_models.sample_cov(precos)"
   ]
  },
  {
   "cell_type": "markdown",
   "id": "3aab0225",
   "metadata": {},
   "source": [
    "#### Limites baseados no Case Safra"
   ]
  },
  {
   "cell_type": "code",
   "execution_count": 191,
   "id": "f0901241",
   "metadata": {},
   "outputs": [],
   "source": [
    "limites_maximos = {\n",
    "    'IBOVESPA': 0.25,       # IBOVESPA + AÇÕES IBRX = 25%\n",
    "    'S&P 500': 0.20,        # S&P = 20%\n",
    "    'Euro/Real': 0.30,      # EURO = 30%\n",
    "    'Dólar/Real': 0.30      # US$ = 30%\n",
    "}"
   ]
  },
  {
   "cell_type": "code",
   "execution_count": 192,
   "id": "37a1ef6b",
   "metadata": {},
   "outputs": [],
   "source": [
    "# Criar uma lista com os limites máximos na ordem das colunas\n",
    "colunas = precos.columns\n",
    "bounds = [(0, limites_maximos.get(col, 1.0)) for col in colunas]  # padrão 100% se não especificado\n"
   ]
  },
  {
   "cell_type": "code",
   "execution_count": 193,
   "id": "22e1b736",
   "metadata": {},
   "outputs": [
    {
     "name": "stdout",
     "output_type": "stream",
     "text": [
      "Pesos ótimos com restrições:\n",
      " OrderedDict({'IBOVESPA': 0.25, 'S&P 500': 0.2, 'Euro/Real': 0.3, 'Dólar/Real': 0.25})\n"
     ]
    }
   ],
   "source": [
    "\n",
    "# === 3. OTIMIZAÇÃO COM RESTRIÇÕES ===\n",
    "ef = EfficientFrontier(mu, S, weight_bounds=bounds)\n",
    "ef.max_sharpe()\n",
    "pesos_otimizados = ef.clean_weights()\n",
    "print(\"Pesos ótimos com restrições:\\n\", pesos_otimizados)"
   ]
  },
  {
   "cell_type": "code",
   "execution_count": 194,
   "id": "b312ef93",
   "metadata": {},
   "outputs": [
    {
     "data": {
      "image/png": "[encoded data removed]",
      "text/plain": [
       "<Figure size 640x480 with 1 Axes>"
      ]
     },
     "metadata": {},
     "output_type": "display_data"
    }
   ],
   "source": [
    "# === 4. GRÁFICO DE BARRAS ===\n",
    "plot_weights(pesos_otimizados)\n",
    "plt.title(\"Pesos da Carteira Otimizada com Restrições\")\n",
    "plt.tight_layout()\n",
    "plt.show()"
   ]
  },
  {
   "cell_type": "code",
   "execution_count": 195,
   "id": "38b18bf7",
   "metadata": {},
   "outputs": [],
   "source": [
    "# === 5. BACKTEST DA CARTEIRA ===\n",
    "# Calcular retorno diário da carteira\n",
    "pesos_lista = [pesos_otimizados[ativo] for ativo in precos.columns]\n",
    "retorno_carteira = (retornos * pesos_lista).sum(axis=1)\n"
   ]
  },
  {
   "cell_type": "code",
   "execution_count": 196,
   "id": "43b3c4d7",
   "metadata": {},
   "outputs": [
    {
     "name": "stdout",
     "output_type": "stream",
     "text": [
      "1      1.010261\n",
      "2      1.009001\n",
      "3      1.006331\n",
      "4      1.004593\n",
      "5      1.002782\n",
      "         ...   \n",
      "420    1.205122\n",
      "421    1.205472\n",
      "422    1.203048\n",
      "423    1.202022\n",
      "424    1.200759\n",
      "Length: 424, dtype: float64\n"
     ]
    }
   ],
   "source": [
    "\n",
    "# Acumular o retorno para simular crescimento de R$1\n",
    "retorno_carteira.index = retornos.index\n",
    "carteira_acumulada = (1 + retorno_carteira).cumprod()\n",
    "print(carteira_acumulada)"
   ]
  },
  {
   "cell_type": "code",
   "execution_count": 197,
   "id": "6859b052",
   "metadata": {},
   "outputs": [
    {
     "name": "stdout",
     "output_type": "stream",
     "text": [
      "Carteira acumulada - index:\n",
      "Index([1, 2, 3, 4, 5], dtype='int64')\n",
      "CDI - index:\n",
      "0   2024-08-01\n",
      "1   2024-08-02\n",
      "2   2024-08-05\n",
      "3   2024-08-06\n",
      "4   2024-08-07\n",
      "Name: Date, dtype: datetime64[ns]\n"
     ]
    }
   ],
   "source": [
    "print(\"Carteira acumulada - index:\")\n",
    "print(carteira_acumulada.index[:5])\n",
    "\n",
    "print(\"CDI - index:\")\n",
    "print(cdi['Date'].head())\n"
   ]
  },
  {
   "cell_type": "code",
   "execution_count": 198,
   "id": "8e244249",
   "metadata": {},
   "outputs": [],
   "source": [
    "df_backtest = pd.DataFrame({'Carteira': carteira_acumulada})\n",
    "df_backtest = df_backtest.merge(cdi[['CDI_acumulado']], left_index=True, right_index=True, how='inner')\n",
    "df_backtest.rename(columns={'CDI_acumulado': 'CDI'}, inplace=True)"
   ]
  },
  {
   "cell_type": "code",
   "execution_count": 199,
   "id": "675c7565",
   "metadata": {},
   "outputs": [
    {
     "data": {
      "text/html": [
       "<div>\n",
       "<style scoped>\n",
       "    .dataframe tbody tr th:only-of-type {\n",
       "        vertical-align: middle;\n",
       "    }\n",
       "\n",
       "    .dataframe tbody tr th {\n",
       "        vertical-align: top;\n",
       "    }\n",
       "\n",
       "    .dataframe thead th {\n",
       "        text-align: right;\n",
       "    }\n",
       "</style>\n",
       "<table border=\"1\" class=\"dataframe\">\n",
       "  <thead>\n",
       "    <tr style=\"text-align: right;\">\n",
       "      <th></th>\n",
       "      <th>Carteira</th>\n",
       "      <th>CDI</th>\n",
       "    </tr>\n",
       "  </thead>\n",
       "  <tbody>\n",
       "    <tr>\n",
       "      <th>1</th>\n",
       "      <td>1.010261</td>\n",
       "      <td>1.000786</td>\n",
       "    </tr>\n",
       "    <tr>\n",
       "      <th>2</th>\n",
       "      <td>1.009001</td>\n",
       "      <td>1.001179</td>\n",
       "    </tr>\n",
       "    <tr>\n",
       "      <th>3</th>\n",
       "      <td>1.006331</td>\n",
       "      <td>1.001572</td>\n",
       "    </tr>\n",
       "    <tr>\n",
       "      <th>4</th>\n",
       "      <td>1.004593</td>\n",
       "      <td>1.001965</td>\n",
       "    </tr>\n",
       "    <tr>\n",
       "      <th>5</th>\n",
       "      <td>1.002782</td>\n",
       "      <td>1.002359</td>\n",
       "    </tr>\n",
       "  </tbody>\n",
       "</table>\n",
       "</div>"
      ],
      "text/plain": [
       "   Carteira       CDI\n",
       "1  1.010261  1.000786\n",
       "2  1.009001  1.001179\n",
       "3  1.006331  1.001572\n",
       "4  1.004593  1.001965\n",
       "5  1.002782  1.002359"
      ]
     },
     "execution_count": 199,
     "metadata": {},
     "output_type": "execute_result"
    }
   ],
   "source": [
    "df_backtest.head(5)"
   ]
  },
  {
   "cell_type": "code",
   "execution_count": 210,
   "id": "fd737564",
   "metadata": {},
   "outputs": [
    {
     "name": "stdout",
     "output_type": "stream",
     "text": [
      "Retorno Anualizado da Carteira: 16.19%\n",
      "Retorno Anualizado do CDI: 12.66%\n"
     ]
    }
   ],
   "source": [
    "retorno_anual_carteira = (df_backtest['Carteira'].iloc[-1])**(252/len(df_backtest)) - 1\n",
    "retorno_anual_cdi = (df_backtest['CDI'].iloc[-1])**(252/len(df_backtest)) - 1\n",
    "\n",
    "print(f\"Retorno Anualizado da Carteira: {retorno_anual_carteira:.2%}\")\n",
    "print(f\"Retorno Anualizado do CDI: {retorno_anual_cdi:.2%}\")\n"
   ]
  },
  {
   "cell_type": "code",
   "execution_count": 211,
   "id": "923d6645",
   "metadata": {},
   "outputs": [
    {
     "name": "stdout",
     "output_type": "stream",
     "text": [
      "                            OLS Regression Results                            \n",
      "==============================================================================\n",
      "Dep. Variable:               Carteira   R-squared:                       0.004\n",
      "Model:                            OLS   Adj. R-squared:                  0.000\n",
      "Method:                 Least Squares   F-statistic:                     1.017\n",
      "Date:                Fri, 01 Aug 2025   Prob (F-statistic):              0.314\n",
      "Time:                        18:21:00   Log-Likelihood:                 1014.5\n",
      "No. Observations:                 249   AIC:                            -2025.\n",
      "Df Residuals:                     247   BIC:                            -2018.\n",
      "Df Model:                           1                                         \n",
      "Covariance Type:            nonrobust                                         \n",
      "==============================================================================\n",
      "                 coef    std err          t      P>|t|      [0.025      0.975]\n",
      "------------------------------------------------------------------------------\n",
      "const         -0.0015      0.002     -0.728      0.467      -0.006       0.003\n",
      "CDI            4.4056      4.369      1.008      0.314      -4.200      13.011\n",
      "==============================================================================\n",
      "Omnibus:                       10.344   Durbin-Watson:                   2.131\n",
      "Prob(Omnibus):                  0.006   Jarque-Bera (JB):               12.245\n",
      "Skew:                           0.361   Prob(JB):                      0.00219\n",
      "Kurtosis:                       3.812   Cond. No.                     1.67e+04\n",
      "==============================================================================\n",
      "\n",
      "Notes:\n",
      "[1] Standard Errors assume that the covariance matrix of the errors is correctly specified.\n",
      "[2] The condition number is large, 1.67e+04. This might indicate that there are\n",
      "strong multicollinearity or other numerical problems.\n"
     ]
    }
   ],
   "source": [
    "import statsmodels.api as sm\n",
    "\n",
    "# Retornos diários\n",
    "ret_carteira = df_backtest['Carteira'].pct_change().dropna()\n",
    "ret_cdi = df_backtest['CDI'].pct_change().dropna()\n",
    "\n",
    "# Alinhar índices\n",
    "ret_carteira, ret_cdi = ret_carteira.align(ret_cdi, join='inner')\n",
    "\n",
    "# Regressão linear: carteira ~ CDI\n",
    "X = sm.add_constant(ret_cdi)\n",
    "model = sm.OLS(ret_carteira, X).fit()\n",
    "\n",
    "print(model.summary())\n"
   ]
  },
  {
   "cell_type": "code",
   "execution_count": 200,
   "id": "82109814",
   "metadata": {},
   "outputs": [
    {
     "data": {
      "image/png": "[encoded data removed]",
      "text/plain": [
       "<Figure size 1000x600 with 1 Axes>"
      ]
     },
     "metadata": {},
     "output_type": "display_data"
    }
   ],
   "source": [
    "import matplotlib.pyplot as plt\n",
    "\n",
    "plt.figure(figsize=(10, 6))\n",
    "plt.plot(df_backtest.index, df_backtest['Carteira'], label='Carteira Otimizada')\n",
    "plt.plot(df_backtest.index, df_backtest['CDI'], label='CDI (Benchmark)', linestyle='--')\n",
    "plt.title('Backtest da Carteira vs CDI')\n",
    "plt.xlabel('Data')\n",
    "plt.ylabel('Crescimento de R$1')\n",
    "plt.legend()\n",
    "plt.grid(True)\n",
    "plt.tight_layout()\n",
    "plt.show()\n"
   ]
  },
  {
   "cell_type": "code",
   "execution_count": 201,
   "id": "a9b52820",
   "metadata": {},
   "outputs": [
    {
     "data": {
      "image/png": "[encoded data removed]",
      "text/plain": [
       "<Figure size 1000x600 with 1 Axes>"
      ]
     },
     "metadata": {},
     "output_type": "display_data"
    }
   ],
   "source": [
    "# Plotar\n",
    "plt.figure(figsize=(10,6))\n",
    "carteira_acumulada.plot(label='Carteira Otimizada')\n",
    "plt.title(\"Backtest da Carteira Otimizada\")\n",
    "plt.ylabel(\"Evolução do Capital\")\n",
    "plt.xlabel(\"Data\")\n",
    "plt.grid(True)\n",
    "plt.legend()\n",
    "plt.tight_layout()\n",
    "plt.show()"
   ]
  },
  {
   "cell_type": "code",
   "execution_count": 202,
   "id": "e6712ed5",
   "metadata": {},
   "outputs": [],
   "source": [
    "media_retornos = retornos.mean() * 252  # Retorno médio diário, e o PyPortfolioOpt interpreta ele como anual.\n",
    "matriz_cov = retornos.cov()\n",
    "matriz_corr = retornos.corr()"
   ]
  },
  {
   "cell_type": "code",
   "execution_count": 203,
   "id": "9908a4ab",
   "metadata": {},
   "outputs": [
    {
     "data": {
      "image/png": "[encoded data removed]",
      "text/plain": [
       "<Figure size 800x600 with 2 Axes>"
      ]
     },
     "metadata": {},
     "output_type": "display_data"
    }
   ],
   "source": [
    "\n",
    "\n",
    "plt.figure(figsize=(8,6))\n",
    "sns.heatmap(matriz_corr, annot=True, cmap=\"coolwarm\", center=0)\n",
    "plt.title(\"Matriz de Correlação dos Retornos\")\n",
    "plt.show()\n"
   ]
  },
  {
   "cell_type": "code",
   "execution_count": null,
   "id": "e3851d87",
   "metadata": {},
   "outputs": [],
   "source": []
  },
  {
   "cell_type": "code",
   "execution_count": 204,
   "id": "1e6576a4",
   "metadata": {},
   "outputs": [],
   "source": [
    "# Inicializa a fronteira eficiente\n",
    "ef = EfficientFrontier(media_retornos, matriz_cov)"
   ]
  },
  {
   "cell_type": "code",
   "execution_count": 205,
   "id": "df97c810",
   "metadata": {},
   "outputs": [],
   "source": [
    "# Otimiza a carteira para máximo Sharpe Ratio\n",
    "pesos = ef.max_sharpe()"
   ]
  },
  {
   "cell_type": "code",
   "execution_count": 206,
   "id": "697a1974",
   "metadata": {},
   "outputs": [
    {
     "name": "stdout",
     "output_type": "stream",
     "text": [
      "Pesos ótimos:\n",
      " OrderedDict({'IBOVESPA': 0.01238, 'S&P 500': 0.4876, 'Euro/Real': 0.46821, 'Dólar/Real': 0.03182})\n",
      "Expected annual return: 15.8%\n",
      "Annual volatility: 0.6%\n",
      "Sharpe Ratio: 27.46\n"
     ]
    }
   ],
   "source": [
    "# Exibe os pesos calculados\n",
    "limpos = ef.clean_weights()\n",
    "print(\"Pesos ótimos:\\n\", limpos)\n",
    "\n",
    "# Desempenho estimado da carteira\n",
    "ret, vol, sharpe = ef.portfolio_performance(verbose=True)"
   ]
  },
  {
   "cell_type": "code",
   "execution_count": 207,
   "id": "8e1672c9",
   "metadata": {},
   "outputs": [
    {
     "data": {
      "image/png": "[encoded data removed]",
      "text/plain": [
       "<Figure size 800x600 with 1 Axes>"
      ]
     },
     "metadata": {},
     "output_type": "display_data"
    }
   ],
   "source": [
    "from pypfopt import EfficientFrontier, expected_returns, risk_models\n",
    "from pypfopt.plotting import plot_efficient_frontier\n",
    "import matplotlib.pyplot as plt\n",
    "\n",
    "# Supondo que 'precos' já está definido corretamente\n",
    "mu = expected_returns.mean_historical_return(precos)\n",
    "S = risk_models.sample_cov(precos)\n",
    "\n",
    "ef = EfficientFrontier(mu, S)\n",
    "\n",
    "fig, ax = plt.subplots(figsize=(8,6))\n",
    "plot_efficient_frontier(ef, ax=ax, show_assets=True)\n",
    "\n",
    "plt.title(\"Fronteira Eficiente de Markowitz\")\n",
    "plt.xlabel(\"Volatilidade (Risco)\")\n",
    "plt.ylabel(\"Retorno Esperado\")\n",
    "plt.grid(True)\n",
    "plt.tight_layout()\n",
    "plt.show()\n"
   ]
  },
  {
   "cell_type": "code",
   "execution_count": 208,
   "id": "ce182e13",
   "metadata": {},
   "outputs": [
    {
     "data": {
      "text/plain": [
       "<matplotlib.collections.PathCollection at 0x2b26483d760>"
      ]
     },
     "execution_count": 208,
     "metadata": {},
     "output_type": "execute_result"
    }
   ],
   "source": [
    "from pypfopt.plotting import plot_efficient_frontier, plot_weights\n",
    "\n",
    "ret, vol, sharpe = ef.portfolio_performance()\n",
    "ax.scatter(vol, ret, marker=\"*\", s=100, c=\"r\", label=\"Máx. Sharpe\")"
   ]
  },
  {
   "cell_type": "code",
   "execution_count": 209,
   "id": "dfbad6a6",
   "metadata": {},
   "outputs": [
    {
     "name": "stdout",
     "output_type": "stream",
     "text": [
      "OrderedDict({'IBOVESPA': 0.0, 'S&P 500': 0.9989, 'Euro/Real': 0.00112, 'Dólar/Real': 0.0})\n"
     ]
    }
   ],
   "source": [
    "pesos_otimos = ef.clean_weights()\n",
    "print(pesos_otimos)\n"
   ]
  }
 ],
 "metadata": {
  "kernelspec": {
   "display_name": "base",
   "language": "python",
   "name": "python3"
  },
  "language_info": {
   "codemirror_mode": {
    "name": "ipython",
    "version": 3
   },
   "file_extension": ".py",
   "mimetype": "text/x-python",
   "name": "python",
   "nbconvert_exporter": "python",
   "pygments_lexer": "ipython3",
   "version": "3.12.4"
  }
 },
 "nbformat": 4,
 "nbformat_minor": 5
}
