{
 "cells": [
  {
   "cell_type": "code",
   "execution_count": null,
   "id": "c56e4115",
   "metadata": {},
   "outputs": [],
   "source": [
    "\n",
    "\n",
    "# #Para\n",
    "# https://api.anbima.com.br/feed/precos-indices/v1/titulos-publicos/mercado-secundario-TPF\n"
   ]
  },
  {
   "cell_type": "code",
   "execution_count": null,
   "id": "f2e732a6",
   "metadata": {},
   "outputs": [
    {
     "name": "stdout",
     "output_type": "stream",
     "text": [
      "201 {\"access_token\":\"4CRraFElKwIY\",\"token_type\":\"access_token\",\"expires_in\":3600}\n",
      "401 Client Id in the request, identified by HEADER client_id, is invalid. Check docs.sensedia.com\n"
     ]
    }
   ],
   "source": []
  },
  {
   "cell_type": "code",
   "execution_count": 17,
   "id": "f81c83e7",
   "metadata": {},
   "outputs": [
    {
     "name": "stdout",
     "output_type": "stream",
     "text": [
      "201 {\"access_token\":\"FNbSnhrb3E5M\",\"token_type\":\"access_token\",\"expires_in\":3600}\n"
     ]
    }
   ],
   "source": [
    "import requests\n",
    "import base64\n",
    "\n",
    "client_id = 'BFjpzPNYDCWQ'\n",
    "client_secret = 'tUUOdzmhNTP0'\n",
    "\n",
    "# 1. Obtenha o token\n",
    "url_auth = 'https://api.anbima.com.br/oauth/access-token'\n",
    "encoded_credentials = base64.b64encode(f\"{client_id}:{client_secret}\".encode()).decode()\n",
    "headers_auth = {\n",
    "    \"Content-Type\": \"application/x-www-form-urlencoded\",\n",
    "    \"Authorization\": f\"Basic {encoded_credentials}\"\n",
    "}\n",
    "response = requests.post(url_auth, headers=headers_auth, data={\"grant_type\": \"client_credentials\"})\n",
    "print(response.status_code, response.text)  # Diagnóstico\n",
    "\n",
    "token = response.json()[\"access_token\"]"
   ]
  },
  {
   "cell_type": "code",
   "execution_count": 21,
   "id": "65536058",
   "metadata": {},
   "outputs": [
    {
     "name": "stdout",
     "output_type": "stream",
     "text": [
      "Status: 403\n",
      "Access denied for this environment.\n"
     ]
    }
   ],
   "source": [
    "url = \"https://api.anbima.com.br/feed/precos-indices/v1/titulos-publicos/vna\"\n",
    "headers = {\n",
    "    \"Content-Type\":  \"application/json\",\n",
    "    \"client_id\":     client_id,\n",
    "    \"access_token\":  token\n",
    "}\n",
    "params = {}\n",
    "\n",
    "params[\"data\"] = \"2025-08-04\"\n",
    "\n",
    "resp = requests.get(url, headers=headers, params=params)\n",
    "print(f\"Status: {resp.status_code}\")\n",
    "try:\n",
    "    print(resp.json())\n",
    "except ValueError:\n",
    "    print(resp.text)"
   ]
  },
  {
   "cell_type": "code",
   "execution_count": 20,
   "id": "158341e2",
   "metadata": {},
   "outputs": [
    {
     "name": "stdout",
     "output_type": "stream",
     "text": [
      "403 Access denied for this environment.\n"
     ]
    }
   ],
   "source": [
    "url = \"https://api.anbima.com.br/feed/precos-indices/v1/titulos-publicos/mercado-secundario-TPF\"\n",
    "headers = {\n",
    "    \"Content-Type\":   \"application/json\",\n",
    "    \"client_id\":      client_id,\n",
    "    \"access_token\":   token\n",
    "}\n",
    "\n",
    "params = {\"data\": \"2025-07-04\"}\n",
    "resp = requests.get(url, headers=headers)\n",
    "print(resp.status_code, resp.text)"
   ]
  },
  {
   "cell_type": "code",
   "execution_count": null,
   "id": "db7ea339",
   "metadata": {},
   "outputs": [],
   "source": []
  },
  {
   "cell_type": "code",
   "execution_count": null,
   "id": "07aa2a6b",
   "metadata": {},
   "outputs": [
    {
     "name": "stdout",
     "output_type": "stream",
     "text": [
      "403 Access denied for this environment.\n"
     ]
    }
   ],
   "source": [
    "tpf_url = \"https://api.anbima.com.br/feed/precos-indices/v1/titulos-publicos/mercado-secundario-TPF\"\n",
    "\n",
    "headers = {\n",
    "    \"Content-Type\": \"application/json\",\n",
    "    \"client_id\":     client_id,\n",
    "    \"access_token\":  token\n",
    "}\n",
    "resp = requests.get(tpf_url, headers=headers)\n",
    "print(resp.status_code, resp.text)"
   ]
  },
  {
   "cell_type": "code",
   "execution_count": 14,
   "id": "9daabd0e",
   "metadata": {},
   "outputs": [
    {
     "name": "stdout",
     "output_type": "stream",
     "text": [
      "401 Access Token in the request, identified by HEADER access_token, is invalid. Check docs.sensedia.com\n"
     ]
    }
   ],
   "source": [
    "# 2. Consulte o endpoint desejado SEM 'client_id' no header!\n",
    "tpf_url = \"https://api.anbima.com.br/feed/precos-indices/v1/titulos-publicos/mercado-secundario-TPF\"\n",
    "headers = {\n",
    "    \"Content-Type\": \"application/json\",\n",
    "    \"client_id\": client_id\n",
    "}\n",
    "params = {\"access_token\": token}\n",
    "resp = requests.get(tpf_url, headers=headers, params=params)\n",
    "print(resp.status_code, resp.text)"
   ]
  },
  {
   "cell_type": "code",
   "execution_count": null,
   "id": "65cc3f78",
   "metadata": {},
   "outputs": [],
   "source": [
    "# deb_url = \"https://api.anbima.com.br/feed/precos-indices/v1/debentures\"\n",
    "# resp = requests.get(deb_url, headers=headers)\n",
    "# debentures = resp.json()\n",
    "\n",
    "# # Filtrar pelos códigos (exemplo, pois pode haver variação nos campos; veja sempre a chave \"codigo_debenture\")\n",
    "# for d in debentures:\n",
    "#     if \"DI1F27\" in d.get(\"codigo_debenture\", \"\") or \"DI1F30\" in d.get(\"codigo_debenture\", \"\"):\n",
    "#         print(d)\n"
   ]
  }
 ],
 "metadata": {
  "kernelspec": {
   "display_name": "base",
   "language": "python",
   "name": "python3"
  },
  "language_info": {
   "codemirror_mode": {
    "name": "ipython",
    "version": 3
   },
   "file_extension": ".py",
   "mimetype": "text/x-python",
   "name": "python",
   "nbconvert_exporter": "python",
   "pygments_lexer": "ipython3",
   "version": "3.12.4"
  }
 },
 "nbformat": 4,
 "nbformat_minor": 5
}
